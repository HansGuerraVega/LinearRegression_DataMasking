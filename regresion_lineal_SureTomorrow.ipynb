{
 "cells": [
  {
   "cell_type": "markdown",
   "metadata": {},
   "source": [
    "# Descripción"
   ]
  },
  {
   "cell_type": "markdown",
   "metadata": {},
   "source": [
    "La compañía de seguros Sure Tomorrow quiere resolver varias tareas con la ayuda de machine learning y te pide que evalúes esa posibilidad.\n",
    "- Tarea 1: encontrar clientes que sean similares a un cliente determinado. Esto ayudará a los agentes de la compañía con el marketing.\n",
    "- Tarea 2: predecir la probabilidad de que un nuevo cliente reciba una prestación del seguro. ¿Puede un modelo de predictivo funcionar mejor que un modelo dummy?\n",
    "- Tarea 3: predecir el número de prestaciones de seguro que un nuevo cliente pueda recibir utilizando un modelo de regresión lineal.\n",
    "- Tarea 4: proteger los datos personales de los clientes sin afectar al modelo del ejercicio anterior. Es necesario desarrollar un algoritmo de transformación de datos que dificulte la recuperación de la información personal si los datos caen en manos equivocadas. Esto se denomina enmascaramiento u ofuscación de datos. Pero los datos deben protegerse de tal manera que no se vea afectada la calidad de los modelos de machine learning. No es necesario elegir el mejor modelo, basta con demostrar que el algoritmo funciona correctamente.\n"
   ]
  },
  {
   "cell_type": "markdown",
   "metadata": {},
   "source": [
    "# Preprocesamiento y exploración de datos\n",
    "\n",
    "## Inicialización"
   ]
  },
  {
   "cell_type": "code",
   "execution_count": 313,
   "metadata": {},
   "outputs": [
    {
     "name": "stdout",
     "output_type": "stream",
     "text": [
      "Requirement already satisfied: scikit-learn in c:\\anaconda3\\lib\\site-packages (1.6.1)\n",
      "Requirement already satisfied: numpy>=1.19.5 in c:\\anaconda3\\lib\\site-packages (from scikit-learn) (1.26.4)\n",
      "Requirement already satisfied: scipy>=1.6.0 in c:\\anaconda3\\lib\\site-packages (from scikit-learn) (1.13.1)\n",
      "Requirement already satisfied: joblib>=1.2.0 in c:\\anaconda3\\lib\\site-packages (from scikit-learn) (1.4.2)\n",
      "Requirement already satisfied: threadpoolctl>=3.1.0 in c:\\anaconda3\\lib\\site-packages (from scikit-learn) (3.5.0)\n",
      "Note: you may need to restart the kernel to use updated packages.\n"
     ]
    }
   ],
   "source": [
    "pip install scikit-learn --upgrade"
   ]
  },
  {
   "cell_type": "code",
   "execution_count": 315,
   "metadata": {},
   "outputs": [],
   "source": [
    "import numpy as np\n",
    "import pandas as pd\n",
    "import math\n",
    "\n",
    "import seaborn as sns\n",
    " \n",
    "import sklearn.linear_model\n",
    "import sklearn.metrics\n",
    "import sklearn.neighbors\n",
    "import sklearn.preprocessing\n",
    "\n",
    "import matplotlib.pyplot as plt\n",
    "\n",
    "from sklearn.model_selection import train_test_split\n",
    "\n",
    "from sklearn.neighbors import NearestNeighbors\n",
    "from sklearn.neighbors import KNeighborsClassifier\n",
    "from sklearn.preprocessing import MaxAbsScaler\n",
    "from sklearn.metrics import f1_score\n",
    "\n",
    "from IPython.display import display"
   ]
  },
  {
   "cell_type": "markdown",
   "metadata": {},
   "source": [
    "## Carga de datos"
   ]
  },
  {
   "cell_type": "markdown",
   "metadata": {},
   "source": [
    "Carga los datos y haz una revisión básica para comprobar que no hay problemas obvios."
   ]
  },
  {
   "cell_type": "code",
   "execution_count": 319,
   "metadata": {},
   "outputs": [],
   "source": [
    "df = pd.read_csv('insurance_us.csv')"
   ]
  },
  {
   "cell_type": "markdown",
   "metadata": {},
   "source": [
    "Renombramos las columnas para que el código se vea más coherente con su estilo."
   ]
  },
  {
   "cell_type": "code",
   "execution_count": 322,
   "metadata": {},
   "outputs": [],
   "source": [
    "df = df.rename(columns={'Gender': 'gender', 'Age': 'age', 'Salary': 'income', 'Family members': 'family_members', 'Insurance benefits': 'insurance_benefits'})"
   ]
  },
  {
   "cell_type": "code",
   "execution_count": 324,
   "metadata": {},
   "outputs": [
    {
     "data": {
      "text/html": [
       "<div>\n",
       "<style scoped>\n",
       "    .dataframe tbody tr th:only-of-type {\n",
       "        vertical-align: middle;\n",
       "    }\n",
       "\n",
       "    .dataframe tbody tr th {\n",
       "        vertical-align: top;\n",
       "    }\n",
       "\n",
       "    .dataframe thead th {\n",
       "        text-align: right;\n",
       "    }\n",
       "</style>\n",
       "<table border=\"1\" class=\"dataframe\">\n",
       "  <thead>\n",
       "    <tr style=\"text-align: right;\">\n",
       "      <th></th>\n",
       "      <th>gender</th>\n",
       "      <th>age</th>\n",
       "      <th>income</th>\n",
       "      <th>family_members</th>\n",
       "      <th>insurance_benefits</th>\n",
       "    </tr>\n",
       "  </thead>\n",
       "  <tbody>\n",
       "    <tr>\n",
       "      <th>438</th>\n",
       "      <td>0</td>\n",
       "      <td>36.0</td>\n",
       "      <td>36300.0</td>\n",
       "      <td>1</td>\n",
       "      <td>0</td>\n",
       "    </tr>\n",
       "    <tr>\n",
       "      <th>794</th>\n",
       "      <td>0</td>\n",
       "      <td>26.0</td>\n",
       "      <td>40800.0</td>\n",
       "      <td>4</td>\n",
       "      <td>0</td>\n",
       "    </tr>\n",
       "    <tr>\n",
       "      <th>4750</th>\n",
       "      <td>1</td>\n",
       "      <td>25.0</td>\n",
       "      <td>48700.0</td>\n",
       "      <td>2</td>\n",
       "      <td>0</td>\n",
       "    </tr>\n",
       "    <tr>\n",
       "      <th>3968</th>\n",
       "      <td>0</td>\n",
       "      <td>22.0</td>\n",
       "      <td>32400.0</td>\n",
       "      <td>2</td>\n",
       "      <td>0</td>\n",
       "    </tr>\n",
       "    <tr>\n",
       "      <th>4825</th>\n",
       "      <td>1</td>\n",
       "      <td>23.0</td>\n",
       "      <td>31500.0</td>\n",
       "      <td>0</td>\n",
       "      <td>0</td>\n",
       "    </tr>\n",
       "    <tr>\n",
       "      <th>4062</th>\n",
       "      <td>0</td>\n",
       "      <td>41.0</td>\n",
       "      <td>21800.0</td>\n",
       "      <td>3</td>\n",
       "      <td>0</td>\n",
       "    </tr>\n",
       "    <tr>\n",
       "      <th>4617</th>\n",
       "      <td>1</td>\n",
       "      <td>19.0</td>\n",
       "      <td>45400.0</td>\n",
       "      <td>0</td>\n",
       "      <td>0</td>\n",
       "    </tr>\n",
       "    <tr>\n",
       "      <th>3616</th>\n",
       "      <td>0</td>\n",
       "      <td>26.0</td>\n",
       "      <td>52000.0</td>\n",
       "      <td>0</td>\n",
       "      <td>0</td>\n",
       "    </tr>\n",
       "    <tr>\n",
       "      <th>2661</th>\n",
       "      <td>1</td>\n",
       "      <td>21.0</td>\n",
       "      <td>29400.0</td>\n",
       "      <td>2</td>\n",
       "      <td>0</td>\n",
       "    </tr>\n",
       "    <tr>\n",
       "      <th>1292</th>\n",
       "      <td>0</td>\n",
       "      <td>23.0</td>\n",
       "      <td>48000.0</td>\n",
       "      <td>1</td>\n",
       "      <td>0</td>\n",
       "    </tr>\n",
       "  </tbody>\n",
       "</table>\n",
       "</div>"
      ],
      "text/plain": [
       "      gender   age   income  family_members  insurance_benefits\n",
       "438        0  36.0  36300.0               1                   0\n",
       "794        0  26.0  40800.0               4                   0\n",
       "4750       1  25.0  48700.0               2                   0\n",
       "3968       0  22.0  32400.0               2                   0\n",
       "4825       1  23.0  31500.0               0                   0\n",
       "4062       0  41.0  21800.0               3                   0\n",
       "4617       1  19.0  45400.0               0                   0\n",
       "3616       0  26.0  52000.0               0                   0\n",
       "2661       1  21.0  29400.0               2                   0\n",
       "1292       0  23.0  48000.0               1                   0"
      ]
     },
     "execution_count": 324,
     "metadata": {},
     "output_type": "execute_result"
    }
   ],
   "source": [
    "df.sample(10)"
   ]
  },
  {
   "cell_type": "code",
   "execution_count": 325,
   "metadata": {},
   "outputs": [
    {
     "name": "stdout",
     "output_type": "stream",
     "text": [
      "<class 'pandas.core.frame.DataFrame'>\n",
      "RangeIndex: 5000 entries, 0 to 4999\n",
      "Data columns (total 5 columns):\n",
      " #   Column              Non-Null Count  Dtype  \n",
      "---  ------              --------------  -----  \n",
      " 0   gender              5000 non-null   int64  \n",
      " 1   age                 5000 non-null   float64\n",
      " 2   income              5000 non-null   float64\n",
      " 3   family_members      5000 non-null   int64  \n",
      " 4   insurance_benefits  5000 non-null   int64  \n",
      "dtypes: float64(2), int64(3)\n",
      "memory usage: 195.4 KB\n"
     ]
    }
   ],
   "source": [
    "df.info()"
   ]
  },
  {
   "cell_type": "code",
   "execution_count": 326,
   "metadata": {},
   "outputs": [
    {
     "name": "stdout",
     "output_type": "stream",
     "text": [
      "<class 'pandas.core.frame.DataFrame'>\n",
      "RangeIndex: 5000 entries, 0 to 4999\n",
      "Data columns (total 5 columns):\n",
      " #   Column              Non-Null Count  Dtype  \n",
      "---  ------              --------------  -----  \n",
      " 0   gender              5000 non-null   int64  \n",
      " 1   age                 5000 non-null   float64\n",
      " 2   income              5000 non-null   float64\n",
      " 3   family_members      5000 non-null   int64  \n",
      " 4   insurance_benefits  5000 non-null   int64  \n",
      "dtypes: float64(2), int64(3)\n",
      "memory usage: 195.4 KB\n"
     ]
    }
   ],
   "source": [
    "# comprueba que la conversión se haya realizado con éxito\n",
    "df.info()"
   ]
  },
  {
   "cell_type": "code",
   "execution_count": 328,
   "metadata": {},
   "outputs": [
    {
     "name": "stdout",
     "output_type": "stream",
     "text": [
      "      gender   age   income  family_members  insurance_benefits\n",
      "281        1  39.0  48100.0               1                   0\n",
      "488        1  24.0  32900.0               1                   0\n",
      "513        0  31.0  37400.0               2                   0\n",
      "718        1  22.0  32600.0               1                   0\n",
      "785        0  20.0  35800.0               0                   0\n",
      "...      ...   ...      ...             ...                 ...\n",
      "4793       1  24.0  37800.0               0                   0\n",
      "4902       1  35.0  38700.0               1                   0\n",
      "4935       1  19.0  32700.0               0                   0\n",
      "4945       1  21.0  45800.0               0                   0\n",
      "4965       0  22.0  40100.0               1                   0\n",
      "\n",
      "[153 rows x 5 columns]\n"
     ]
    }
   ],
   "source": [
    "print(df[df.duplicated()])"
   ]
  },
  {
   "cell_type": "code",
   "execution_count": 329,
   "metadata": {},
   "outputs": [
    {
     "data": {
      "text/html": [
       "<div>\n",
       "<style scoped>\n",
       "    .dataframe tbody tr th:only-of-type {\n",
       "        vertical-align: middle;\n",
       "    }\n",
       "\n",
       "    .dataframe tbody tr th {\n",
       "        vertical-align: top;\n",
       "    }\n",
       "\n",
       "    .dataframe thead th {\n",
       "        text-align: right;\n",
       "    }\n",
       "</style>\n",
       "<table border=\"1\" class=\"dataframe\">\n",
       "  <thead>\n",
       "    <tr style=\"text-align: right;\">\n",
       "      <th></th>\n",
       "      <th>gender</th>\n",
       "      <th>age</th>\n",
       "      <th>income</th>\n",
       "      <th>family_members</th>\n",
       "      <th>insurance_benefits</th>\n",
       "    </tr>\n",
       "  </thead>\n",
       "  <tbody>\n",
       "    <tr>\n",
       "      <th>count</th>\n",
       "      <td>5000.000000</td>\n",
       "      <td>5000.000000</td>\n",
       "      <td>5000.000000</td>\n",
       "      <td>5000.000000</td>\n",
       "      <td>5000.000000</td>\n",
       "    </tr>\n",
       "    <tr>\n",
       "      <th>mean</th>\n",
       "      <td>0.499000</td>\n",
       "      <td>30.952800</td>\n",
       "      <td>39916.360000</td>\n",
       "      <td>1.194200</td>\n",
       "      <td>0.148000</td>\n",
       "    </tr>\n",
       "    <tr>\n",
       "      <th>std</th>\n",
       "      <td>0.500049</td>\n",
       "      <td>8.440807</td>\n",
       "      <td>9900.083569</td>\n",
       "      <td>1.091387</td>\n",
       "      <td>0.463183</td>\n",
       "    </tr>\n",
       "    <tr>\n",
       "      <th>min</th>\n",
       "      <td>0.000000</td>\n",
       "      <td>18.000000</td>\n",
       "      <td>5300.000000</td>\n",
       "      <td>0.000000</td>\n",
       "      <td>0.000000</td>\n",
       "    </tr>\n",
       "    <tr>\n",
       "      <th>25%</th>\n",
       "      <td>0.000000</td>\n",
       "      <td>24.000000</td>\n",
       "      <td>33300.000000</td>\n",
       "      <td>0.000000</td>\n",
       "      <td>0.000000</td>\n",
       "    </tr>\n",
       "    <tr>\n",
       "      <th>50%</th>\n",
       "      <td>0.000000</td>\n",
       "      <td>30.000000</td>\n",
       "      <td>40200.000000</td>\n",
       "      <td>1.000000</td>\n",
       "      <td>0.000000</td>\n",
       "    </tr>\n",
       "    <tr>\n",
       "      <th>75%</th>\n",
       "      <td>1.000000</td>\n",
       "      <td>37.000000</td>\n",
       "      <td>46600.000000</td>\n",
       "      <td>2.000000</td>\n",
       "      <td>0.000000</td>\n",
       "    </tr>\n",
       "    <tr>\n",
       "      <th>max</th>\n",
       "      <td>1.000000</td>\n",
       "      <td>65.000000</td>\n",
       "      <td>79000.000000</td>\n",
       "      <td>6.000000</td>\n",
       "      <td>5.000000</td>\n",
       "    </tr>\n",
       "  </tbody>\n",
       "</table>\n",
       "</div>"
      ],
      "text/plain": [
       "            gender          age        income  family_members  \\\n",
       "count  5000.000000  5000.000000   5000.000000     5000.000000   \n",
       "mean      0.499000    30.952800  39916.360000        1.194200   \n",
       "std       0.500049     8.440807   9900.083569        1.091387   \n",
       "min       0.000000    18.000000   5300.000000        0.000000   \n",
       "25%       0.000000    24.000000  33300.000000        0.000000   \n",
       "50%       0.000000    30.000000  40200.000000        1.000000   \n",
       "75%       1.000000    37.000000  46600.000000        2.000000   \n",
       "max       1.000000    65.000000  79000.000000        6.000000   \n",
       "\n",
       "       insurance_benefits  \n",
       "count         5000.000000  \n",
       "mean             0.148000  \n",
       "std              0.463183  \n",
       "min              0.000000  \n",
       "25%              0.000000  \n",
       "50%              0.000000  \n",
       "75%              0.000000  \n",
       "max              5.000000  "
      ]
     },
     "execution_count": 329,
     "metadata": {},
     "output_type": "execute_result"
    }
   ],
   "source": [
    "# ahora echa un vistazo a las estadísticas descriptivas de los datos.# ¿Se ve todo bien?\n",
    "df.describe()"
   ]
  },
  {
   "cell_type": "markdown",
   "metadata": {},
   "source": [
    "Genero: Muestra una media de aproximadamente 0.5 lo que indica que hay un balance entre hombres y mujeres. El valor mínimo es 0 y el máximo es 1 lo que es entendible si se ocupan 0 y 1 para distinguir entre género.\n",
    "\n",
    "Age: Tiene rangos de edades entre 18 y 65 parecen años normales para una aseguradora, la media también parece entendible junto con la desviación estándar por lo que no se encuentran valores anormales\n",
    "\n",
    "Inocme: Tampoco se observan valores atípicos, sólo se observa que se que cubre una amplia diversidad de ingresos.\n",
    "\n",
    "Family members: va entre 0 y 6 familiares lo que parece común, no llega a ser exagerado y no tiene valores inesperados. Al parecer la media son entre 1 y 2 miembros.\n",
    "\n",
    "Insurance benefits: la media es baja lo que nos dice que hay muy poca gente que recibe este beneficio, la mayoría tiene 0 prestaciones. Sin embargo, no parece algo fuera de lo común."
   ]
  },
  {
   "cell_type": "markdown",
   "metadata": {},
   "source": [
    "**Conclusión**\n",
    "\n",
    "* No se encontraron datos sospechosos ni anormales en este tipo de datos por lo que se puede continuar a los siguientes pasos.\n",
    "* Se encontraron 153 datos duplicados pero igualmente parece aceptable este número de coincidencias teniendo 5000 datos"
   ]
  },
  {
   "cell_type": "markdown",
   "metadata": {},
   "source": [
    "## Análisis exploratorio de datos"
   ]
  },
  {
   "cell_type": "markdown",
   "metadata": {},
   "source": [
    "Vamos a comprobar rápidamente si existen determinados grupos de clientes observando el gráfico de pares."
   ]
  },
  {
   "cell_type": "code",
   "execution_count": 338,
   "metadata": {},
   "outputs": [
    {
     "data": {
      "image/png": "[encoded data removed]",
      "text/plain": [
       "<Figure size 1200x1200 with 30 Axes>"
      ]
     },
     "metadata": {},
     "output_type": "display_data"
    }
   ],
   "source": [
    "g = sns.pairplot(df, kind='hist')\n",
    "g.fig.set_size_inches(12, 12)"
   ]
  },
  {
   "cell_type": "markdown",
   "metadata": {},
   "source": [
    "De acuerdo, es un poco complicado detectar grupos obvios (clústeres) ya que es difícil combinar diversas variables simultáneamente (para analizar distribuciones multivariadas). Ahí es donde LA y ML pueden ser bastante útiles."
   ]
  },
  {
   "cell_type": "markdown",
   "metadata": {},
   "source": [
    "# Tarea 1. Clientes similares"
   ]
  },
  {
   "cell_type": "markdown",
   "metadata": {},
   "source": [
    "En el lenguaje de ML, es necesario desarrollar un procedimiento que devuelva los k vecinos más cercanos (objetos) para un objeto dado basándose en la distancia entre los objetos.\n",
    "Es posible que quieras revisar las siguientes lecciones (capítulo -> lección)- Distancia entre vectores -> Distancia euclidiana\n",
    "- Distancia entre vectores -> Distancia Manhattan\n",
    "\n",
    "Para resolver la tarea, podemos probar diferentes métricas de distancia."
   ]
  },
  {
   "cell_type": "markdown",
   "metadata": {},
   "source": [
    "Escribe una función que devuelva los k vecinos más cercanos para un $n^{th}$ objeto basándose en una métrica de distancia especificada. A la hora de realizar esta tarea no debe tenerse en cuenta el número de prestaciones de seguro recibidas.\n",
    "Puedes utilizar una implementación ya existente del algoritmo kNN de scikit-learn (consulta [el enlace](https://scikit-learn.org/stable/modules/generated/sklearn.neighbors.NearestNeighbors.html#sklearn.neighbors.NearestNeighbors)) o tu propia implementación.\n",
    "Pruébalo para cuatro combinaciones de dos casos- Escalado\n",
    "  - los datos no están escalados\n",
    "  - los datos se escalan con el escalador [MaxAbsScaler](https://scikit-learn.org/stable/modules/generated/sklearn.preprocessing.MaxAbsScaler.html)\n",
    "- Métricas de distancia\n",
    "  - Euclidiana\n",
    "  - Manhattan\n",
    "\n",
    "Responde a estas preguntas:- ¿El hecho de que los datos no estén escalados afecta al algoritmo kNN? Si es así, ¿cómo se manifiesta?- ¿Qué tan similares son los resultados al utilizar la métrica de distancia Manhattan (independientemente del escalado)?"
   ]
  },
  {
   "cell_type": "code",
   "execution_count": 343,
   "metadata": {},
   "outputs": [
    {
     "name": "stdout",
     "output_type": "stream",
     "text": [
      "[[1.00e+00 4.10e+01 4.96e+04 1.00e+00]\n",
      " [0.00e+00 4.60e+01 3.80e+04 1.00e+00]\n",
      " [0.00e+00 2.90e+01 2.10e+04 0.00e+00]\n",
      " ...\n",
      " [0.00e+00 2.00e+01 3.39e+04 2.00e+00]\n",
      " [1.00e+00 2.20e+01 3.27e+04 3.00e+00]\n",
      " [1.00e+00 2.80e+01 4.06e+04 1.00e+00]]\n"
     ]
    }
   ],
   "source": [
    "feature_names = ['gender', 'age', 'income', 'family_members']\n",
    "print(df[feature_names].values)"
   ]
  },
  {
   "cell_type": "code",
   "execution_count": 344,
   "metadata": {},
   "outputs": [],
   "source": [
    "def get_knn(df, n, k, metric):\n",
    "    \n",
    "    \"\"\"\n",
    "    Devuelve los k vecinos más cercanos\n",
    "\n",
    "    :param df: DataFrame de pandas utilizado para encontrar objetos similares dentro del mismo lugar    :param n: número de objetos para los que se buscan los vecinos más cercanos    :param k: número de vecinos más cercanos a devolver\n",
    "    :param métrica: nombre de la métrica de distancia    \"\"\"\n",
    "\n",
    "    nbrs =  NearestNeighbors(n_neighbors=k, metric=metric)\n",
    "    nbrs.fit(df[feature_names].values)\n",
    "    nbrs_distances, nbrs_indices = nbrs.kneighbors([df.iloc[n][feature_names]], k, return_distance=True)\n",
    "    \n",
    "    df_res = pd.concat([\n",
    "        df.iloc[nbrs_indices[0]], \n",
    "        pd.DataFrame(nbrs_distances.T, index=nbrs_indices[0], columns=['distance'])\n",
    "        ], axis=1)\n",
    "    \n",
    "    return df_res"
   ]
  },
  {
   "cell_type": "markdown",
   "metadata": {},
   "source": [
    "Escalar datos."
   ]
  },
  {
   "cell_type": "code",
   "execution_count": 349,
   "metadata": {},
   "outputs": [],
   "source": [
    "# Elegimos las columnas a escalar\n",
    "feature_names = ['gender', 'age', 'income', 'family_members']\n",
    "# Por futuros errores cambiamos el tipo de dato de la columna 'family_members'\n",
    "df['family_members'] = df['family_members'].astype(float)\n",
    "\n",
    "# Escalamos los datos\n",
    "transformer_mas = sklearn.preprocessing.MaxAbsScaler().fit(df[feature_names].to_numpy())\n",
    "\n",
    "df_scaled = df.copy()\n",
    "df_scaled.loc[:, feature_names] = transformer_mas.transform(df[feature_names].to_numpy())"
   ]
  },
  {
   "cell_type": "code",
   "execution_count": 351,
   "metadata": {},
   "outputs": [
    {
     "data": {
      "text/html": [
       "<div>\n",
       "<style scoped>\n",
       "    .dataframe tbody tr th:only-of-type {\n",
       "        vertical-align: middle;\n",
       "    }\n",
       "\n",
       "    .dataframe tbody tr th {\n",
       "        vertical-align: top;\n",
       "    }\n",
       "\n",
       "    .dataframe thead th {\n",
       "        text-align: right;\n",
       "    }\n",
       "</style>\n",
       "<table border=\"1\" class=\"dataframe\">\n",
       "  <thead>\n",
       "    <tr style=\"text-align: right;\">\n",
       "      <th></th>\n",
       "      <th>gender</th>\n",
       "      <th>age</th>\n",
       "      <th>income</th>\n",
       "      <th>family_members</th>\n",
       "      <th>insurance_benefits</th>\n",
       "    </tr>\n",
       "  </thead>\n",
       "  <tbody>\n",
       "    <tr>\n",
       "      <th>1019</th>\n",
       "      <td>1</td>\n",
       "      <td>0.646154</td>\n",
       "      <td>0.501266</td>\n",
       "      <td>0.333333</td>\n",
       "      <td>0</td>\n",
       "    </tr>\n",
       "    <tr>\n",
       "      <th>27</th>\n",
       "      <td>1</td>\n",
       "      <td>0.461538</td>\n",
       "      <td>0.440506</td>\n",
       "      <td>0.166667</td>\n",
       "      <td>0</td>\n",
       "    </tr>\n",
       "    <tr>\n",
       "      <th>965</th>\n",
       "      <td>1</td>\n",
       "      <td>0.430769</td>\n",
       "      <td>0.316456</td>\n",
       "      <td>0.500000</td>\n",
       "      <td>0</td>\n",
       "    </tr>\n",
       "    <tr>\n",
       "      <th>1361</th>\n",
       "      <td>0</td>\n",
       "      <td>0.630769</td>\n",
       "      <td>0.427848</td>\n",
       "      <td>0.000000</td>\n",
       "      <td>0</td>\n",
       "    </tr>\n",
       "    <tr>\n",
       "      <th>3232</th>\n",
       "      <td>0</td>\n",
       "      <td>0.630769</td>\n",
       "      <td>0.305063</td>\n",
       "      <td>0.833333</td>\n",
       "      <td>0</td>\n",
       "    </tr>\n",
       "  </tbody>\n",
       "</table>\n",
       "</div>"
      ],
      "text/plain": [
       "      gender       age    income  family_members  insurance_benefits\n",
       "1019       1  0.646154  0.501266        0.333333                   0\n",
       "27         1  0.461538  0.440506        0.166667                   0\n",
       "965        1  0.430769  0.316456        0.500000                   0\n",
       "1361       0  0.630769  0.427848        0.000000                   0\n",
       "3232       0  0.630769  0.305063        0.833333                   0"
      ]
     },
     "execution_count": 351,
     "metadata": {},
     "output_type": "execute_result"
    }
   ],
   "source": [
    "df_scaled.sample(5)"
   ]
  },
  {
   "cell_type": "markdown",
   "metadata": {},
   "source": [
    "Ahora, vamos a obtener registros similares para uno determinado, para cada combinación"
   ]
  },
  {
   "cell_type": "code",
   "execution_count": 354,
   "metadata": {},
   "outputs": [
    {
     "name": "stdout",
     "output_type": "stream",
     "text": [
      "Sin escalado, distancia Euclidiana\n"
     ]
    },
    {
     "data": {
      "text/html": [
       "<div>\n",
       "<style scoped>\n",
       "    .dataframe tbody tr th:only-of-type {\n",
       "        vertical-align: middle;\n",
       "    }\n",
       "\n",
       "    .dataframe tbody tr th {\n",
       "        vertical-align: top;\n",
       "    }\n",
       "\n",
       "    .dataframe thead th {\n",
       "        text-align: right;\n",
       "    }\n",
       "</style>\n",
       "<table border=\"1\" class=\"dataframe\">\n",
       "  <thead>\n",
       "    <tr style=\"text-align: right;\">\n",
       "      <th></th>\n",
       "      <th>gender</th>\n",
       "      <th>age</th>\n",
       "      <th>income</th>\n",
       "      <th>family_members</th>\n",
       "      <th>insurance_benefits</th>\n",
       "      <th>distance</th>\n",
       "    </tr>\n",
       "  </thead>\n",
       "  <tbody>\n",
       "    <tr>\n",
       "      <th>0</th>\n",
       "      <td>1</td>\n",
       "      <td>41.0</td>\n",
       "      <td>49600.0</td>\n",
       "      <td>1.0</td>\n",
       "      <td>0</td>\n",
       "      <td>0.000000</td>\n",
       "    </tr>\n",
       "    <tr>\n",
       "      <th>2022</th>\n",
       "      <td>1</td>\n",
       "      <td>41.0</td>\n",
       "      <td>49600.0</td>\n",
       "      <td>0.0</td>\n",
       "      <td>0</td>\n",
       "      <td>1.000000</td>\n",
       "    </tr>\n",
       "    <tr>\n",
       "      <th>1225</th>\n",
       "      <td>0</td>\n",
       "      <td>42.0</td>\n",
       "      <td>49600.0</td>\n",
       "      <td>0.0</td>\n",
       "      <td>1</td>\n",
       "      <td>1.732051</td>\n",
       "    </tr>\n",
       "    <tr>\n",
       "      <th>4031</th>\n",
       "      <td>1</td>\n",
       "      <td>44.0</td>\n",
       "      <td>49600.0</td>\n",
       "      <td>2.0</td>\n",
       "      <td>1</td>\n",
       "      <td>3.162278</td>\n",
       "    </tr>\n",
       "    <tr>\n",
       "      <th>3424</th>\n",
       "      <td>0</td>\n",
       "      <td>38.0</td>\n",
       "      <td>49600.0</td>\n",
       "      <td>0.0</td>\n",
       "      <td>0</td>\n",
       "      <td>3.316625</td>\n",
       "    </tr>\n",
       "  </tbody>\n",
       "</table>\n",
       "</div>"
      ],
      "text/plain": [
       "      gender   age   income  family_members  insurance_benefits  distance\n",
       "0          1  41.0  49600.0             1.0                   0  0.000000\n",
       "2022       1  41.0  49600.0             0.0                   0  1.000000\n",
       "1225       0  42.0  49600.0             0.0                   1  1.732051\n",
       "4031       1  44.0  49600.0             2.0                   1  3.162278\n",
       "3424       0  38.0  49600.0             0.0                   0  3.316625"
      ]
     },
     "metadata": {},
     "output_type": "display_data"
    },
    {
     "data": {
      "text/html": [
       "<div>\n",
       "<style scoped>\n",
       "    .dataframe tbody tr th:only-of-type {\n",
       "        vertical-align: middle;\n",
       "    }\n",
       "\n",
       "    .dataframe tbody tr th {\n",
       "        vertical-align: top;\n",
       "    }\n",
       "\n",
       "    .dataframe thead th {\n",
       "        text-align: right;\n",
       "    }\n",
       "</style>\n",
       "<table border=\"1\" class=\"dataframe\">\n",
       "  <thead>\n",
       "    <tr style=\"text-align: right;\">\n",
       "      <th></th>\n",
       "      <th>gender</th>\n",
       "      <th>age</th>\n",
       "      <th>income</th>\n",
       "      <th>family_members</th>\n",
       "      <th>insurance_benefits</th>\n",
       "      <th>distance</th>\n",
       "    </tr>\n",
       "  </thead>\n",
       "  <tbody>\n",
       "    <tr>\n",
       "      <th>count</th>\n",
       "      <td>5.000000</td>\n",
       "      <td>5.000000</td>\n",
       "      <td>5.0</td>\n",
       "      <td>5.000000</td>\n",
       "      <td>5.000000</td>\n",
       "      <td>5.000000</td>\n",
       "    </tr>\n",
       "    <tr>\n",
       "      <th>mean</th>\n",
       "      <td>0.600000</td>\n",
       "      <td>41.200000</td>\n",
       "      <td>49600.0</td>\n",
       "      <td>0.600000</td>\n",
       "      <td>0.400000</td>\n",
       "      <td>1.842191</td>\n",
       "    </tr>\n",
       "    <tr>\n",
       "      <th>std</th>\n",
       "      <td>0.547723</td>\n",
       "      <td>2.167948</td>\n",
       "      <td>0.0</td>\n",
       "      <td>0.894427</td>\n",
       "      <td>0.547723</td>\n",
       "      <td>1.417010</td>\n",
       "    </tr>\n",
       "    <tr>\n",
       "      <th>min</th>\n",
       "      <td>0.000000</td>\n",
       "      <td>38.000000</td>\n",
       "      <td>49600.0</td>\n",
       "      <td>0.000000</td>\n",
       "      <td>0.000000</td>\n",
       "      <td>0.000000</td>\n",
       "    </tr>\n",
       "    <tr>\n",
       "      <th>25%</th>\n",
       "      <td>0.000000</td>\n",
       "      <td>41.000000</td>\n",
       "      <td>49600.0</td>\n",
       "      <td>0.000000</td>\n",
       "      <td>0.000000</td>\n",
       "      <td>1.000000</td>\n",
       "    </tr>\n",
       "    <tr>\n",
       "      <th>50%</th>\n",
       "      <td>1.000000</td>\n",
       "      <td>41.000000</td>\n",
       "      <td>49600.0</td>\n",
       "      <td>0.000000</td>\n",
       "      <td>0.000000</td>\n",
       "      <td>1.732051</td>\n",
       "    </tr>\n",
       "    <tr>\n",
       "      <th>75%</th>\n",
       "      <td>1.000000</td>\n",
       "      <td>42.000000</td>\n",
       "      <td>49600.0</td>\n",
       "      <td>1.000000</td>\n",
       "      <td>1.000000</td>\n",
       "      <td>3.162278</td>\n",
       "    </tr>\n",
       "    <tr>\n",
       "      <th>max</th>\n",
       "      <td>1.000000</td>\n",
       "      <td>44.000000</td>\n",
       "      <td>49600.0</td>\n",
       "      <td>2.000000</td>\n",
       "      <td>1.000000</td>\n",
       "      <td>3.316625</td>\n",
       "    </tr>\n",
       "  </tbody>\n",
       "</table>\n",
       "</div>"
      ],
      "text/plain": [
       "         gender        age   income  family_members  insurance_benefits  \\\n",
       "count  5.000000   5.000000      5.0        5.000000            5.000000   \n",
       "mean   0.600000  41.200000  49600.0        0.600000            0.400000   \n",
       "std    0.547723   2.167948      0.0        0.894427            0.547723   \n",
       "min    0.000000  38.000000  49600.0        0.000000            0.000000   \n",
       "25%    0.000000  41.000000  49600.0        0.000000            0.000000   \n",
       "50%    1.000000  41.000000  49600.0        0.000000            0.000000   \n",
       "75%    1.000000  42.000000  49600.0        1.000000            1.000000   \n",
       "max    1.000000  44.000000  49600.0        2.000000            1.000000   \n",
       "\n",
       "       distance  \n",
       "count  5.000000  \n",
       "mean   1.842191  \n",
       "std    1.417010  \n",
       "min    0.000000  \n",
       "25%    1.000000  \n",
       "50%    1.732051  \n",
       "75%    3.162278  \n",
       "max    3.316625  "
      ]
     },
     "metadata": {},
     "output_type": "display_data"
    },
    {
     "name": "stdout",
     "output_type": "stream",
     "text": [
      "\n",
      "Sin escalado, distancia Manhattan\n"
     ]
    },
    {
     "data": {
      "text/html": [
       "<div>\n",
       "<style scoped>\n",
       "    .dataframe tbody tr th:only-of-type {\n",
       "        vertical-align: middle;\n",
       "    }\n",
       "\n",
       "    .dataframe tbody tr th {\n",
       "        vertical-align: top;\n",
       "    }\n",
       "\n",
       "    .dataframe thead th {\n",
       "        text-align: right;\n",
       "    }\n",
       "</style>\n",
       "<table border=\"1\" class=\"dataframe\">\n",
       "  <thead>\n",
       "    <tr style=\"text-align: right;\">\n",
       "      <th></th>\n",
       "      <th>gender</th>\n",
       "      <th>age</th>\n",
       "      <th>income</th>\n",
       "      <th>family_members</th>\n",
       "      <th>insurance_benefits</th>\n",
       "      <th>distance</th>\n",
       "    </tr>\n",
       "  </thead>\n",
       "  <tbody>\n",
       "    <tr>\n",
       "      <th>0</th>\n",
       "      <td>1</td>\n",
       "      <td>41.0</td>\n",
       "      <td>49600.0</td>\n",
       "      <td>1.0</td>\n",
       "      <td>0</td>\n",
       "      <td>0.0</td>\n",
       "    </tr>\n",
       "    <tr>\n",
       "      <th>2022</th>\n",
       "      <td>1</td>\n",
       "      <td>41.0</td>\n",
       "      <td>49600.0</td>\n",
       "      <td>0.0</td>\n",
       "      <td>0</td>\n",
       "      <td>1.0</td>\n",
       "    </tr>\n",
       "    <tr>\n",
       "      <th>1225</th>\n",
       "      <td>0</td>\n",
       "      <td>42.0</td>\n",
       "      <td>49600.0</td>\n",
       "      <td>0.0</td>\n",
       "      <td>1</td>\n",
       "      <td>3.0</td>\n",
       "    </tr>\n",
       "    <tr>\n",
       "      <th>4031</th>\n",
       "      <td>1</td>\n",
       "      <td>44.0</td>\n",
       "      <td>49600.0</td>\n",
       "      <td>2.0</td>\n",
       "      <td>1</td>\n",
       "      <td>4.0</td>\n",
       "    </tr>\n",
       "    <tr>\n",
       "      <th>815</th>\n",
       "      <td>1</td>\n",
       "      <td>37.0</td>\n",
       "      <td>49600.0</td>\n",
       "      <td>2.0</td>\n",
       "      <td>0</td>\n",
       "      <td>5.0</td>\n",
       "    </tr>\n",
       "  </tbody>\n",
       "</table>\n",
       "</div>"
      ],
      "text/plain": [
       "      gender   age   income  family_members  insurance_benefits  distance\n",
       "0          1  41.0  49600.0             1.0                   0       0.0\n",
       "2022       1  41.0  49600.0             0.0                   0       1.0\n",
       "1225       0  42.0  49600.0             0.0                   1       3.0\n",
       "4031       1  44.0  49600.0             2.0                   1       4.0\n",
       "815        1  37.0  49600.0             2.0                   0       5.0"
      ]
     },
     "metadata": {},
     "output_type": "display_data"
    },
    {
     "data": {
      "text/html": [
       "<div>\n",
       "<style scoped>\n",
       "    .dataframe tbody tr th:only-of-type {\n",
       "        vertical-align: middle;\n",
       "    }\n",
       "\n",
       "    .dataframe tbody tr th {\n",
       "        vertical-align: top;\n",
       "    }\n",
       "\n",
       "    .dataframe thead th {\n",
       "        text-align: right;\n",
       "    }\n",
       "</style>\n",
       "<table border=\"1\" class=\"dataframe\">\n",
       "  <thead>\n",
       "    <tr style=\"text-align: right;\">\n",
       "      <th></th>\n",
       "      <th>gender</th>\n",
       "      <th>age</th>\n",
       "      <th>income</th>\n",
       "      <th>family_members</th>\n",
       "      <th>insurance_benefits</th>\n",
       "      <th>distance</th>\n",
       "    </tr>\n",
       "  </thead>\n",
       "  <tbody>\n",
       "    <tr>\n",
       "      <th>count</th>\n",
       "      <td>5.000000</td>\n",
       "      <td>5.00000</td>\n",
       "      <td>5.0</td>\n",
       "      <td>5.0</td>\n",
       "      <td>5.000000</td>\n",
       "      <td>5.000000</td>\n",
       "    </tr>\n",
       "    <tr>\n",
       "      <th>mean</th>\n",
       "      <td>0.800000</td>\n",
       "      <td>41.00000</td>\n",
       "      <td>49600.0</td>\n",
       "      <td>1.0</td>\n",
       "      <td>0.400000</td>\n",
       "      <td>2.600000</td>\n",
       "    </tr>\n",
       "    <tr>\n",
       "      <th>std</th>\n",
       "      <td>0.447214</td>\n",
       "      <td>2.54951</td>\n",
       "      <td>0.0</td>\n",
       "      <td>1.0</td>\n",
       "      <td>0.547723</td>\n",
       "      <td>2.073644</td>\n",
       "    </tr>\n",
       "    <tr>\n",
       "      <th>min</th>\n",
       "      <td>0.000000</td>\n",
       "      <td>37.00000</td>\n",
       "      <td>49600.0</td>\n",
       "      <td>0.0</td>\n",
       "      <td>0.000000</td>\n",
       "      <td>0.000000</td>\n",
       "    </tr>\n",
       "    <tr>\n",
       "      <th>25%</th>\n",
       "      <td>1.000000</td>\n",
       "      <td>41.00000</td>\n",
       "      <td>49600.0</td>\n",
       "      <td>0.0</td>\n",
       "      <td>0.000000</td>\n",
       "      <td>1.000000</td>\n",
       "    </tr>\n",
       "    <tr>\n",
       "      <th>50%</th>\n",
       "      <td>1.000000</td>\n",
       "      <td>41.00000</td>\n",
       "      <td>49600.0</td>\n",
       "      <td>1.0</td>\n",
       "      <td>0.000000</td>\n",
       "      <td>3.000000</td>\n",
       "    </tr>\n",
       "    <tr>\n",
       "      <th>75%</th>\n",
       "      <td>1.000000</td>\n",
       "      <td>42.00000</td>\n",
       "      <td>49600.0</td>\n",
       "      <td>2.0</td>\n",
       "      <td>1.000000</td>\n",
       "      <td>4.000000</td>\n",
       "    </tr>\n",
       "    <tr>\n",
       "      <th>max</th>\n",
       "      <td>1.000000</td>\n",
       "      <td>44.00000</td>\n",
       "      <td>49600.0</td>\n",
       "      <td>2.0</td>\n",
       "      <td>1.000000</td>\n",
       "      <td>5.000000</td>\n",
       "    </tr>\n",
       "  </tbody>\n",
       "</table>\n",
       "</div>"
      ],
      "text/plain": [
       "         gender       age   income  family_members  insurance_benefits  \\\n",
       "count  5.000000   5.00000      5.0             5.0            5.000000   \n",
       "mean   0.800000  41.00000  49600.0             1.0            0.400000   \n",
       "std    0.447214   2.54951      0.0             1.0            0.547723   \n",
       "min    0.000000  37.00000  49600.0             0.0            0.000000   \n",
       "25%    1.000000  41.00000  49600.0             0.0            0.000000   \n",
       "50%    1.000000  41.00000  49600.0             1.0            0.000000   \n",
       "75%    1.000000  42.00000  49600.0             2.0            1.000000   \n",
       "max    1.000000  44.00000  49600.0             2.0            1.000000   \n",
       "\n",
       "       distance  \n",
       "count  5.000000  \n",
       "mean   2.600000  \n",
       "std    2.073644  \n",
       "min    0.000000  \n",
       "25%    1.000000  \n",
       "50%    3.000000  \n",
       "75%    4.000000  \n",
       "max    5.000000  "
      ]
     },
     "metadata": {},
     "output_type": "display_data"
    },
    {
     "name": "stdout",
     "output_type": "stream",
     "text": [
      "\n",
      "Con escalado, distancia Euclidiana\n"
     ]
    },
    {
     "data": {
      "text/html": [
       "<div>\n",
       "<style scoped>\n",
       "    .dataframe tbody tr th:only-of-type {\n",
       "        vertical-align: middle;\n",
       "    }\n",
       "\n",
       "    .dataframe tbody tr th {\n",
       "        vertical-align: top;\n",
       "    }\n",
       "\n",
       "    .dataframe thead th {\n",
       "        text-align: right;\n",
       "    }\n",
       "</style>\n",
       "<table border=\"1\" class=\"dataframe\">\n",
       "  <thead>\n",
       "    <tr style=\"text-align: right;\">\n",
       "      <th></th>\n",
       "      <th>gender</th>\n",
       "      <th>age</th>\n",
       "      <th>income</th>\n",
       "      <th>family_members</th>\n",
       "      <th>insurance_benefits</th>\n",
       "      <th>distance</th>\n",
       "    </tr>\n",
       "  </thead>\n",
       "  <tbody>\n",
       "    <tr>\n",
       "      <th>0</th>\n",
       "      <td>1</td>\n",
       "      <td>0.630769</td>\n",
       "      <td>0.627848</td>\n",
       "      <td>0.166667</td>\n",
       "      <td>0</td>\n",
       "      <td>0.000000</td>\n",
       "    </tr>\n",
       "    <tr>\n",
       "      <th>2689</th>\n",
       "      <td>1</td>\n",
       "      <td>0.630769</td>\n",
       "      <td>0.634177</td>\n",
       "      <td>0.166667</td>\n",
       "      <td>0</td>\n",
       "      <td>0.006329</td>\n",
       "    </tr>\n",
       "    <tr>\n",
       "      <th>133</th>\n",
       "      <td>1</td>\n",
       "      <td>0.615385</td>\n",
       "      <td>0.636709</td>\n",
       "      <td>0.166667</td>\n",
       "      <td>0</td>\n",
       "      <td>0.017754</td>\n",
       "    </tr>\n",
       "    <tr>\n",
       "      <th>4869</th>\n",
       "      <td>1</td>\n",
       "      <td>0.646154</td>\n",
       "      <td>0.637975</td>\n",
       "      <td>0.166667</td>\n",
       "      <td>1</td>\n",
       "      <td>0.018418</td>\n",
       "    </tr>\n",
       "    <tr>\n",
       "      <th>3275</th>\n",
       "      <td>1</td>\n",
       "      <td>0.646154</td>\n",
       "      <td>0.651899</td>\n",
       "      <td>0.166667</td>\n",
       "      <td>1</td>\n",
       "      <td>0.028550</td>\n",
       "    </tr>\n",
       "  </tbody>\n",
       "</table>\n",
       "</div>"
      ],
      "text/plain": [
       "      gender       age    income  family_members  insurance_benefits  distance\n",
       "0          1  0.630769  0.627848        0.166667                   0  0.000000\n",
       "2689       1  0.630769  0.634177        0.166667                   0  0.006329\n",
       "133        1  0.615385  0.636709        0.166667                   0  0.017754\n",
       "4869       1  0.646154  0.637975        0.166667                   1  0.018418\n",
       "3275       1  0.646154  0.651899        0.166667                   1  0.028550"
      ]
     },
     "metadata": {},
     "output_type": "display_data"
    },
    {
     "data": {
      "text/html": [
       "<div>\n",
       "<style scoped>\n",
       "    .dataframe tbody tr th:only-of-type {\n",
       "        vertical-align: middle;\n",
       "    }\n",
       "\n",
       "    .dataframe tbody tr th {\n",
       "        vertical-align: top;\n",
       "    }\n",
       "\n",
       "    .dataframe thead th {\n",
       "        text-align: right;\n",
       "    }\n",
       "</style>\n",
       "<table border=\"1\" class=\"dataframe\">\n",
       "  <thead>\n",
       "    <tr style=\"text-align: right;\">\n",
       "      <th></th>\n",
       "      <th>gender</th>\n",
       "      <th>age</th>\n",
       "      <th>income</th>\n",
       "      <th>family_members</th>\n",
       "      <th>insurance_benefits</th>\n",
       "      <th>distance</th>\n",
       "    </tr>\n",
       "  </thead>\n",
       "  <tbody>\n",
       "    <tr>\n",
       "      <th>count</th>\n",
       "      <td>5.0</td>\n",
       "      <td>5.000000</td>\n",
       "      <td>5.000000</td>\n",
       "      <td>5.000000</td>\n",
       "      <td>5.000000</td>\n",
       "      <td>5.000000</td>\n",
       "    </tr>\n",
       "    <tr>\n",
       "      <th>mean</th>\n",
       "      <td>1.0</td>\n",
       "      <td>0.633846</td>\n",
       "      <td>0.637722</td>\n",
       "      <td>0.166667</td>\n",
       "      <td>0.400000</td>\n",
       "      <td>0.014210</td>\n",
       "    </tr>\n",
       "    <tr>\n",
       "      <th>std</th>\n",
       "      <td>0.0</td>\n",
       "      <td>0.012872</td>\n",
       "      <td>0.008834</td>\n",
       "      <td>0.000000</td>\n",
       "      <td>0.547723</td>\n",
       "      <td>0.011180</td>\n",
       "    </tr>\n",
       "    <tr>\n",
       "      <th>min</th>\n",
       "      <td>1.0</td>\n",
       "      <td>0.615385</td>\n",
       "      <td>0.627848</td>\n",
       "      <td>0.166667</td>\n",
       "      <td>0.000000</td>\n",
       "      <td>0.000000</td>\n",
       "    </tr>\n",
       "    <tr>\n",
       "      <th>25%</th>\n",
       "      <td>1.0</td>\n",
       "      <td>0.630769</td>\n",
       "      <td>0.634177</td>\n",
       "      <td>0.166667</td>\n",
       "      <td>0.000000</td>\n",
       "      <td>0.006329</td>\n",
       "    </tr>\n",
       "    <tr>\n",
       "      <th>50%</th>\n",
       "      <td>1.0</td>\n",
       "      <td>0.630769</td>\n",
       "      <td>0.636709</td>\n",
       "      <td>0.166667</td>\n",
       "      <td>0.000000</td>\n",
       "      <td>0.017754</td>\n",
       "    </tr>\n",
       "    <tr>\n",
       "      <th>75%</th>\n",
       "      <td>1.0</td>\n",
       "      <td>0.646154</td>\n",
       "      <td>0.637975</td>\n",
       "      <td>0.166667</td>\n",
       "      <td>1.000000</td>\n",
       "      <td>0.018418</td>\n",
       "    </tr>\n",
       "    <tr>\n",
       "      <th>max</th>\n",
       "      <td>1.0</td>\n",
       "      <td>0.646154</td>\n",
       "      <td>0.651899</td>\n",
       "      <td>0.166667</td>\n",
       "      <td>1.000000</td>\n",
       "      <td>0.028550</td>\n",
       "    </tr>\n",
       "  </tbody>\n",
       "</table>\n",
       "</div>"
      ],
      "text/plain": [
       "       gender       age    income  family_members  insurance_benefits  \\\n",
       "count     5.0  5.000000  5.000000        5.000000            5.000000   \n",
       "mean      1.0  0.633846  0.637722        0.166667            0.400000   \n",
       "std       0.0  0.012872  0.008834        0.000000            0.547723   \n",
       "min       1.0  0.615385  0.627848        0.166667            0.000000   \n",
       "25%       1.0  0.630769  0.634177        0.166667            0.000000   \n",
       "50%       1.0  0.630769  0.636709        0.166667            0.000000   \n",
       "75%       1.0  0.646154  0.637975        0.166667            1.000000   \n",
       "max       1.0  0.646154  0.651899        0.166667            1.000000   \n",
       "\n",
       "       distance  \n",
       "count  5.000000  \n",
       "mean   0.014210  \n",
       "std    0.011180  \n",
       "min    0.000000  \n",
       "25%    0.006329  \n",
       "50%    0.017754  \n",
       "75%    0.018418  \n",
       "max    0.028550  "
      ]
     },
     "metadata": {},
     "output_type": "display_data"
    },
    {
     "name": "stdout",
     "output_type": "stream",
     "text": [
      "\n",
      "Con escalado, distancia Manhattan\n"
     ]
    },
    {
     "data": {
      "text/html": [
       "<div>\n",
       "<style scoped>\n",
       "    .dataframe tbody tr th:only-of-type {\n",
       "        vertical-align: middle;\n",
       "    }\n",
       "\n",
       "    .dataframe tbody tr th {\n",
       "        vertical-align: top;\n",
       "    }\n",
       "\n",
       "    .dataframe thead th {\n",
       "        text-align: right;\n",
       "    }\n",
       "</style>\n",
       "<table border=\"1\" class=\"dataframe\">\n",
       "  <thead>\n",
       "    <tr style=\"text-align: right;\">\n",
       "      <th></th>\n",
       "      <th>gender</th>\n",
       "      <th>age</th>\n",
       "      <th>income</th>\n",
       "      <th>family_members</th>\n",
       "      <th>insurance_benefits</th>\n",
       "      <th>distance</th>\n",
       "    </tr>\n",
       "  </thead>\n",
       "  <tbody>\n",
       "    <tr>\n",
       "      <th>0</th>\n",
       "      <td>1</td>\n",
       "      <td>0.630769</td>\n",
       "      <td>0.627848</td>\n",
       "      <td>0.166667</td>\n",
       "      <td>0</td>\n",
       "      <td>0.000000</td>\n",
       "    </tr>\n",
       "    <tr>\n",
       "      <th>2689</th>\n",
       "      <td>1</td>\n",
       "      <td>0.630769</td>\n",
       "      <td>0.634177</td>\n",
       "      <td>0.166667</td>\n",
       "      <td>0</td>\n",
       "      <td>0.006329</td>\n",
       "    </tr>\n",
       "    <tr>\n",
       "      <th>133</th>\n",
       "      <td>1</td>\n",
       "      <td>0.615385</td>\n",
       "      <td>0.636709</td>\n",
       "      <td>0.166667</td>\n",
       "      <td>0</td>\n",
       "      <td>0.024245</td>\n",
       "    </tr>\n",
       "    <tr>\n",
       "      <th>4869</th>\n",
       "      <td>1</td>\n",
       "      <td>0.646154</td>\n",
       "      <td>0.637975</td>\n",
       "      <td>0.166667</td>\n",
       "      <td>1</td>\n",
       "      <td>0.025511</td>\n",
       "    </tr>\n",
       "    <tr>\n",
       "      <th>2103</th>\n",
       "      <td>1</td>\n",
       "      <td>0.630769</td>\n",
       "      <td>0.596203</td>\n",
       "      <td>0.166667</td>\n",
       "      <td>0</td>\n",
       "      <td>0.031646</td>\n",
       "    </tr>\n",
       "  </tbody>\n",
       "</table>\n",
       "</div>"
      ],
      "text/plain": [
       "      gender       age    income  family_members  insurance_benefits  distance\n",
       "0          1  0.630769  0.627848        0.166667                   0  0.000000\n",
       "2689       1  0.630769  0.634177        0.166667                   0  0.006329\n",
       "133        1  0.615385  0.636709        0.166667                   0  0.024245\n",
       "4869       1  0.646154  0.637975        0.166667                   1  0.025511\n",
       "2103       1  0.630769  0.596203        0.166667                   0  0.031646"
      ]
     },
     "metadata": {},
     "output_type": "display_data"
    },
    {
     "data": {
      "text/html": [
       "<div>\n",
       "<style scoped>\n",
       "    .dataframe tbody tr th:only-of-type {\n",
       "        vertical-align: middle;\n",
       "    }\n",
       "\n",
       "    .dataframe tbody tr th {\n",
       "        vertical-align: top;\n",
       "    }\n",
       "\n",
       "    .dataframe thead th {\n",
       "        text-align: right;\n",
       "    }\n",
       "</style>\n",
       "<table border=\"1\" class=\"dataframe\">\n",
       "  <thead>\n",
       "    <tr style=\"text-align: right;\">\n",
       "      <th></th>\n",
       "      <th>gender</th>\n",
       "      <th>age</th>\n",
       "      <th>income</th>\n",
       "      <th>family_members</th>\n",
       "      <th>insurance_benefits</th>\n",
       "      <th>distance</th>\n",
       "    </tr>\n",
       "  </thead>\n",
       "  <tbody>\n",
       "    <tr>\n",
       "      <th>count</th>\n",
       "      <td>5.0</td>\n",
       "      <td>5.000000</td>\n",
       "      <td>5.000000</td>\n",
       "      <td>5.000000</td>\n",
       "      <td>5.000000</td>\n",
       "      <td>5.000000</td>\n",
       "    </tr>\n",
       "    <tr>\n",
       "      <th>mean</th>\n",
       "      <td>1.0</td>\n",
       "      <td>0.630769</td>\n",
       "      <td>0.626582</td>\n",
       "      <td>0.166667</td>\n",
       "      <td>0.200000</td>\n",
       "      <td>0.017546</td>\n",
       "    </tr>\n",
       "    <tr>\n",
       "      <th>std</th>\n",
       "      <td>0.0</td>\n",
       "      <td>0.010879</td>\n",
       "      <td>0.017425</td>\n",
       "      <td>0.000000</td>\n",
       "      <td>0.447214</td>\n",
       "      <td>0.013609</td>\n",
       "    </tr>\n",
       "    <tr>\n",
       "      <th>min</th>\n",
       "      <td>1.0</td>\n",
       "      <td>0.615385</td>\n",
       "      <td>0.596203</td>\n",
       "      <td>0.166667</td>\n",
       "      <td>0.000000</td>\n",
       "      <td>0.000000</td>\n",
       "    </tr>\n",
       "    <tr>\n",
       "      <th>25%</th>\n",
       "      <td>1.0</td>\n",
       "      <td>0.630769</td>\n",
       "      <td>0.627848</td>\n",
       "      <td>0.166667</td>\n",
       "      <td>0.000000</td>\n",
       "      <td>0.006329</td>\n",
       "    </tr>\n",
       "    <tr>\n",
       "      <th>50%</th>\n",
       "      <td>1.0</td>\n",
       "      <td>0.630769</td>\n",
       "      <td>0.634177</td>\n",
       "      <td>0.166667</td>\n",
       "      <td>0.000000</td>\n",
       "      <td>0.024245</td>\n",
       "    </tr>\n",
       "    <tr>\n",
       "      <th>75%</th>\n",
       "      <td>1.0</td>\n",
       "      <td>0.630769</td>\n",
       "      <td>0.636709</td>\n",
       "      <td>0.166667</td>\n",
       "      <td>0.000000</td>\n",
       "      <td>0.025511</td>\n",
       "    </tr>\n",
       "    <tr>\n",
       "      <th>max</th>\n",
       "      <td>1.0</td>\n",
       "      <td>0.646154</td>\n",
       "      <td>0.637975</td>\n",
       "      <td>0.166667</td>\n",
       "      <td>1.000000</td>\n",
       "      <td>0.031646</td>\n",
       "    </tr>\n",
       "  </tbody>\n",
       "</table>\n",
       "</div>"
      ],
      "text/plain": [
       "       gender       age    income  family_members  insurance_benefits  \\\n",
       "count     5.0  5.000000  5.000000        5.000000            5.000000   \n",
       "mean      1.0  0.630769  0.626582        0.166667            0.200000   \n",
       "std       0.0  0.010879  0.017425        0.000000            0.447214   \n",
       "min       1.0  0.615385  0.596203        0.166667            0.000000   \n",
       "25%       1.0  0.630769  0.627848        0.166667            0.000000   \n",
       "50%       1.0  0.630769  0.634177        0.166667            0.000000   \n",
       "75%       1.0  0.630769  0.636709        0.166667            0.000000   \n",
       "max       1.0  0.646154  0.637975        0.166667            1.000000   \n",
       "\n",
       "       distance  \n",
       "count  5.000000  \n",
       "mean   0.017546  \n",
       "std    0.013609  \n",
       "min    0.000000  \n",
       "25%    0.006329  \n",
       "50%    0.024245  \n",
       "75%    0.025511  \n",
       "max    0.031646  "
      ]
     },
     "metadata": {},
     "output_type": "display_data"
    }
   ],
   "source": [
    "# Cliente específico (por ejemplo, índice 0)\n",
    "n = 0\n",
    "k = 5  # Número de vecinos más cercanos a obtener\n",
    "\n",
    "# 1. Sin escalado, distancia Euclidiana\n",
    "print(\"Sin escalado, distancia Euclidiana\")\n",
    "result_1 = get_knn(df, n=n, k=k, metric='euclidean')\n",
    "display(result_1)\n",
    "display(result_1.describe())\n",
    "\n",
    "# 2. Sin escalado, distancia Manhattan\n",
    "print(\"\\nSin escalado, distancia Manhattan\")\n",
    "result_2 = get_knn(df, n=n, k=k, metric='manhattan')\n",
    "display(result_2)\n",
    "display(result_2.describe())\n",
    "\n",
    "# 3. Con escalado (MaxAbsScaler), distancia Euclidiana\n",
    "print(\"\\nCon escalado, distancia Euclidiana\")\n",
    "result_3 = get_knn(df_scaled, n=n, k=k, metric='euclidean')\n",
    "display(result_3)\n",
    "display(result_3.describe())\n",
    "\n",
    "# 4. Con escalado (MaxAbsScaler), distancia Manhattan\n",
    "print(\"\\nCon escalado, distancia Manhattan\")\n",
    "result_4 = get_knn(df_scaled, n=n, k=k, metric='manhattan')\n",
    "display(result_4)\n",
    "display(result_4.describe())"
   ]
  },
  {
   "cell_type": "markdown",
   "metadata": {},
   "source": [
    "Respuestas a las preguntas"
   ]
  },
  {
   "cell_type": "markdown",
   "metadata": {},
   "source": [
    "**¿El hecho de que los datos no estén escalados afecta al algoritmo kNN? Si es así, ¿cómo se manifiesta?** \n",
    "\n",
    "Sí afecta el escalado en todas las métricas de las distancias (excepto en el mínimo). Al escalar los datos los valores de las distancias se vuelven más pequeños, esto tiene sentido ya que el escalado que estamos aplicando reduce el valor de los datos originales en buena medida."
   ]
  },
  {
   "cell_type": "markdown",
   "metadata": {},
   "source": [
    "**¿Qué tan similares son los resultados al utilizar la métrica de distancia Manhattan (independientemente del escalado)?** \n",
    "\n",
    "Son menos similares comparándolos con la distancia euclidiana, tanto su varianza como su promedio son mayores"
   ]
  },
  {
   "cell_type": "markdown",
   "metadata": {},
   "source": [
    "# Tarea 2. ¿Es probable que el cliente reciba una prestación del seguro?"
   ]
  },
  {
   "cell_type": "markdown",
   "metadata": {},
   "source": [
    "En términos de machine learning podemos considerarlo como una tarea de clasificación binaria."
   ]
  },
  {
   "cell_type": "markdown",
   "metadata": {},
   "source": [
    "Con el valor de `insurance_benefits` superior a cero como objetivo, evalúa si el enfoque de clasificación kNN puede funcionar mejor que el modelo dummy.\n",
    "Instrucciones:\n",
    "- Construye un clasificador basado en KNN y mide su calidad con la métrica F1 para k=1...10 tanto para los datos originales como para los escalados. Sería interesante observar cómo k puede influir en la métrica de evaluación y si el escalado de los datos provoca alguna diferencia. Puedes utilizar una implementación ya existente del algoritmo de clasificación kNN de scikit-learn (consulta [el enlace](https://scikit-learn.org/stable/modules/generated/sklearn.neighbors.KNeighborsClassifier.html)) o tu propia implementación.- Construye un modelo dummy que, en este caso, es simplemente un modelo aleatorio. Debería devolver \"1\" con cierta probabilidad. Probemos el modelo con cuatro valores de probabilidad: 0, la probabilidad de pagar cualquier prestación del seguro, 0.5, 1.\n",
    "La probabilidad de pagar cualquier prestación del seguro puede definirse como\n",
    "$$\n",
    "P\\{\\text{prestación de seguro recibida}\\}=\\frac{\\text{número de clientes que han recibido alguna prestación de seguro}}{\\text{número total de clientes}}.\n",
    "$$\n",
    "\n",
    "Divide todos los datos correspondientes a las etapas de entrenamiento/prueba respetando la proporción 70:30."
   ]
  },
  {
   "cell_type": "code",
   "execution_count": 362,
   "metadata": {},
   "outputs": [
    {
     "data": {
      "text/html": [
       "<div>\n",
       "<style scoped>\n",
       "    .dataframe tbody tr th:only-of-type {\n",
       "        vertical-align: middle;\n",
       "    }\n",
       "\n",
       "    .dataframe tbody tr th {\n",
       "        vertical-align: top;\n",
       "    }\n",
       "\n",
       "    .dataframe thead th {\n",
       "        text-align: right;\n",
       "    }\n",
       "</style>\n",
       "<table border=\"1\" class=\"dataframe\">\n",
       "  <thead>\n",
       "    <tr style=\"text-align: right;\">\n",
       "      <th></th>\n",
       "      <th>gender</th>\n",
       "      <th>age</th>\n",
       "      <th>income</th>\n",
       "      <th>family_members</th>\n",
       "      <th>insurance_benefits</th>\n",
       "      <th>insurance_benefits_received</th>\n",
       "    </tr>\n",
       "  </thead>\n",
       "  <tbody>\n",
       "    <tr>\n",
       "      <th>0</th>\n",
       "      <td>1</td>\n",
       "      <td>41.0</td>\n",
       "      <td>49600.0</td>\n",
       "      <td>1.0</td>\n",
       "      <td>0</td>\n",
       "      <td>0</td>\n",
       "    </tr>\n",
       "    <tr>\n",
       "      <th>1</th>\n",
       "      <td>0</td>\n",
       "      <td>46.0</td>\n",
       "      <td>38000.0</td>\n",
       "      <td>1.0</td>\n",
       "      <td>1</td>\n",
       "      <td>1</td>\n",
       "    </tr>\n",
       "    <tr>\n",
       "      <th>2</th>\n",
       "      <td>0</td>\n",
       "      <td>29.0</td>\n",
       "      <td>21000.0</td>\n",
       "      <td>0.0</td>\n",
       "      <td>0</td>\n",
       "      <td>0</td>\n",
       "    </tr>\n",
       "    <tr>\n",
       "      <th>3</th>\n",
       "      <td>0</td>\n",
       "      <td>21.0</td>\n",
       "      <td>41700.0</td>\n",
       "      <td>2.0</td>\n",
       "      <td>0</td>\n",
       "      <td>0</td>\n",
       "    </tr>\n",
       "    <tr>\n",
       "      <th>4</th>\n",
       "      <td>1</td>\n",
       "      <td>28.0</td>\n",
       "      <td>26100.0</td>\n",
       "      <td>0.0</td>\n",
       "      <td>0</td>\n",
       "      <td>0</td>\n",
       "    </tr>\n",
       "    <tr>\n",
       "      <th>...</th>\n",
       "      <td>...</td>\n",
       "      <td>...</td>\n",
       "      <td>...</td>\n",
       "      <td>...</td>\n",
       "      <td>...</td>\n",
       "      <td>...</td>\n",
       "    </tr>\n",
       "    <tr>\n",
       "      <th>4995</th>\n",
       "      <td>0</td>\n",
       "      <td>28.0</td>\n",
       "      <td>35700.0</td>\n",
       "      <td>2.0</td>\n",
       "      <td>0</td>\n",
       "      <td>0</td>\n",
       "    </tr>\n",
       "    <tr>\n",
       "      <th>4996</th>\n",
       "      <td>0</td>\n",
       "      <td>34.0</td>\n",
       "      <td>52400.0</td>\n",
       "      <td>1.0</td>\n",
       "      <td>0</td>\n",
       "      <td>0</td>\n",
       "    </tr>\n",
       "    <tr>\n",
       "      <th>4997</th>\n",
       "      <td>0</td>\n",
       "      <td>20.0</td>\n",
       "      <td>33900.0</td>\n",
       "      <td>2.0</td>\n",
       "      <td>0</td>\n",
       "      <td>0</td>\n",
       "    </tr>\n",
       "    <tr>\n",
       "      <th>4998</th>\n",
       "      <td>1</td>\n",
       "      <td>22.0</td>\n",
       "      <td>32700.0</td>\n",
       "      <td>3.0</td>\n",
       "      <td>0</td>\n",
       "      <td>0</td>\n",
       "    </tr>\n",
       "    <tr>\n",
       "      <th>4999</th>\n",
       "      <td>1</td>\n",
       "      <td>28.0</td>\n",
       "      <td>40600.0</td>\n",
       "      <td>1.0</td>\n",
       "      <td>0</td>\n",
       "      <td>0</td>\n",
       "    </tr>\n",
       "  </tbody>\n",
       "</table>\n",
       "<p>5000 rows × 6 columns</p>\n",
       "</div>"
      ],
      "text/plain": [
       "      gender   age   income  family_members  insurance_benefits  \\\n",
       "0          1  41.0  49600.0             1.0                   0   \n",
       "1          0  46.0  38000.0             1.0                   1   \n",
       "2          0  29.0  21000.0             0.0                   0   \n",
       "3          0  21.0  41700.0             2.0                   0   \n",
       "4          1  28.0  26100.0             0.0                   0   \n",
       "...      ...   ...      ...             ...                 ...   \n",
       "4995       0  28.0  35700.0             2.0                   0   \n",
       "4996       0  34.0  52400.0             1.0                   0   \n",
       "4997       0  20.0  33900.0             2.0                   0   \n",
       "4998       1  22.0  32700.0             3.0                   0   \n",
       "4999       1  28.0  40600.0             1.0                   0   \n",
       "\n",
       "      insurance_benefits_received  \n",
       "0                               0  \n",
       "1                               1  \n",
       "2                               0  \n",
       "3                               0  \n",
       "4                               0  \n",
       "...                           ...  \n",
       "4995                            0  \n",
       "4996                            0  \n",
       "4997                            0  \n",
       "4998                            0  \n",
       "4999                            0  \n",
       "\n",
       "[5000 rows x 6 columns]"
      ]
     },
     "metadata": {},
     "output_type": "display_data"
    }
   ],
   "source": [
    "# сalcula el objetivo\n",
    "df['insurance_benefits_received'] = (df['insurance_benefits'] > 0).astype(int)\n",
    "display(df)"
   ]
  },
  {
   "cell_type": "code",
   "execution_count": 364,
   "metadata": {},
   "outputs": [
    {
     "name": "stdout",
     "output_type": "stream",
     "text": [
      "insurance_benefits_received\n",
      "0    4436\n",
      "1     564\n",
      "Name: count, dtype: int64\n",
      "\n",
      "En porcentaje:\n",
      "insurance_benefits_received\n",
      "0    88.72\n",
      "1    11.28\n",
      "Name: count, dtype: float64\n"
     ]
    }
   ],
   "source": [
    "# comprueba el desequilibrio de clases con value_counts()\n",
    "\n",
    "print(df['insurance_benefits_received'].value_counts())\n",
    "\n",
    "# Si se necesita verlo en porcetaje\n",
    "print('\\nEn porcentaje:')\n",
    "print((df['insurance_benefits_received'].value_counts())/(len(df))*100)"
   ]
  },
  {
   "cell_type": "code",
   "execution_count": 366,
   "metadata": {},
   "outputs": [],
   "source": [
    "def eval_classifier(y_true, y_pred):\n",
    "    \n",
    "    f1_score = sklearn.metrics.f1_score(y_true, y_pred)\n",
    "    print(f'F1: {f1_score:.2f}')\n",
    "    \n",
    "# si tienes algún problema con la siguiente línea, reinicia el kernel y ejecuta el cuaderno de nuevo    cm = sklearn.metrics.confusion_matrix(y_true, y_pred, normalize='all')\n",
    "    print('Matriz de confusión')\n",
    "    cm = sklearn.metrics.confusion_matrix(y_true, y_pred, normalize='all')\n",
    "    print(cm)"
   ]
  },
  {
   "cell_type": "code",
   "execution_count": 368,
   "metadata": {},
   "outputs": [],
   "source": [
    "# generar la salida de un modelo aleatorio\n",
    "\n",
    "def rnd_model_predict(P, size, seed=42):\n",
    "\n",
    "    rng = np.random.default_rng(seed=seed)\n",
    "    return rng.binomial(n=1, p=P, size=size)"
   ]
  },
  {
   "cell_type": "code",
   "execution_count": 370,
   "metadata": {},
   "outputs": [
    {
     "name": "stdout",
     "output_type": "stream",
     "text": [
      "La probabilidad: 0.00\n",
      "F1: 0.00\n",
      "Matriz de confusión\n",
      "[[0.8872 0.    ]\n",
      " [0.1128 0.    ]]\n",
      "\n",
      "La probabilidad: 0.11\n",
      "F1: 0.12\n",
      "Matriz de confusión\n",
      "[[0.7914 0.0958]\n",
      " [0.0994 0.0134]]\n",
      "\n",
      "La probabilidad: 0.50\n",
      "F1: 0.20\n",
      "Matriz de confusión\n",
      "[[0.456  0.4312]\n",
      " [0.053  0.0598]]\n",
      "\n",
      "La probabilidad: 1.00\n",
      "F1: 0.20\n",
      "Matriz de confusión\n",
      "[[0.     0.8872]\n",
      " [0.     0.1128]]\n",
      "\n"
     ]
    }
   ],
   "source": [
    "for P in [0, df['insurance_benefits_received'].sum() / len(df), 0.5, 1]:\n",
    "\n",
    "    print(f'La probabilidad: {P:.2f}')\n",
    "    y_pred_rnd = rnd_model_predict(P, len(df))\n",
    "        \n",
    "    eval_classifier(df['insurance_benefits_received'], y_pred_rnd)\n",
    "    \n",
    "    print()"
   ]
  },
  {
   "cell_type": "code",
   "execution_count": 372,
   "metadata": {},
   "outputs": [],
   "source": [
    "def knn(X_train, X_test, y_train, y_test, k):\n",
    "    neigh = KNeighborsClassifier(n_neighbors=k)\n",
    "    neigh.fit(X_train, y_train)\n",
    "    prediction = neigh.predict(X_test)\n",
    "    score = f1_score(y_test, prediction)\n",
    "    return score"
   ]
  },
  {
   "cell_type": "code",
   "execution_count": 374,
   "metadata": {},
   "outputs": [],
   "source": [
    "## Dividimos los datos\n",
    "# Datos sin escalar\n",
    "X = df[feature_names].values\n",
    "y = df['insurance_benefits_received']\n",
    "X_train, X_test, y_train, y_test = train_test_split(X, y, test_size=0.3, random_state=12345)\n",
    "# Datos escalados\n",
    "X_scl = df_scaled[feature_names].values\n",
    "y_scl = y\n",
    "X_train_scl, X_test_scl, y_train_scl, y_test_scl = train_test_split(X_scl, y_scl, test_size=0.3, random_state=12345)"
   ]
  },
  {
   "cell_type": "code",
   "execution_count": 376,
   "metadata": {},
   "outputs": [
    {
     "name": "stdout",
     "output_type": "stream",
     "text": [
      "Puntuación F1 para datos sin escalar:\n"
     ]
    },
    {
     "data": {
      "text/plain": [
       "[0.60431654676259,\n",
       " 0.4056603773584906,\n",
       " 0.4052863436123348,\n",
       " 0.27835051546391754,\n",
       " 0.271356783919598,\n",
       " 0.11428571428571428,\n",
       " 0.11299435028248588,\n",
       " 0.07100591715976332,\n",
       " 0.08235294117647059,\n",
       " 0.0]"
      ]
     },
     "metadata": {},
     "output_type": "display_data"
    },
    {
     "name": "stdout",
     "output_type": "stream",
     "text": [
      "Puntuación F1 para datos escaladps:\n"
     ]
    },
    {
     "data": {
      "text/plain": [
       "[0.9659442724458205,\n",
       " 0.9281045751633987,\n",
       " 0.9493670886075949,\n",
       " 0.9078947368421053,\n",
       " 0.9240506329113924,\n",
       " 0.9036544850498339,\n",
       " 0.9201277955271565,\n",
       " 0.9013157894736842,\n",
       " 0.9155844155844156,\n",
       " 0.8791946308724832]"
      ]
     },
     "metadata": {},
     "output_type": "display_data"
    }
   ],
   "source": [
    "k_cls = 10\n",
    "f1_scores_raw = []\n",
    "f1_scores_scl = []\n",
    "for i in range(1, k_cls+1):\n",
    "    \n",
    "    scores1 = knn(X_train, X_test, y_train, y_test, i)\n",
    "    scores2 = knn(X_train_scl, X_test_scl, y_train_scl, y_test_scl, i)\n",
    "    \n",
    "    f1_scores_raw.append(scores1)\n",
    "    f1_scores_scl.append(scores2)\n",
    "\n",
    "print('Puntuación F1 para datos sin escalar:')\n",
    "display(f1_scores_raw)\n",
    "print('Puntuación F1 para datos escaladps:')\n",
    "display(f1_scores_scl)"
   ]
  },
  {
   "cell_type": "code",
   "execution_count": 377,
   "metadata": {},
   "outputs": [
    {
     "data": {
      "image/png": "[encoded data removed]",
      "text/plain": [
       "<Figure size 640x480 with 1 Axes>"
      ]
     },
     "metadata": {},
     "output_type": "display_data"
    },
    {
     "data": {
      "image/png": "[encoded data removed]",
      "text/plain": [
       "<Figure size 640x480 with 1 Axes>"
      ]
     },
     "metadata": {},
     "output_type": "display_data"
    }
   ],
   "source": [
    "K = range(1,11)\n",
    "plt.bar(K,f1_scores_raw)\n",
    "plt.title('Evolución de F1 aumentanto K con datos sin escalar')\n",
    "plt.xlabel('K')\n",
    "plt.ylabel('Puntuación F1 normalizada')\n",
    "plt.ylim(0,1)\n",
    "plt.show()\n",
    "\n",
    "plt.bar(K,f1_scores_scl)\n",
    "plt.title('Evolución de F1 aumentanto K con datos escalados')\n",
    "plt.xlabel('K')\n",
    "plt.ylabel('Puntuación F1 normalizada')\n",
    "plt.ylim(0,1)\n",
    "plt.show()"
   ]
  },
  {
   "cell_type": "markdown",
   "metadata": {},
   "source": [
    "**Observaciones**\n",
    "\n",
    "1. Podemos observar que el escalado influye en buena medida con la ayuda de la buena clasificación y desempeño del algortimo KNN\n",
    "2. El algoritmo KNN presentó un mejor resultados que el algotimo dummy\n",
    "3. Variando el número de vecinos cercanos llegamos a la conclusión que desde el primer vecino, ya existe una buena clasificación para estos datos."
   ]
  },
  {
   "cell_type": "markdown",
   "metadata": {},
   "source": [
    "# Tarea 3. Regresión (con regresión lineal)"
   ]
  },
  {
   "cell_type": "markdown",
   "metadata": {},
   "source": [
    "Con `insurance_benefits` como objetivo, evalúa cuál sería la RECM de un modelo de regresión lineal."
   ]
  },
  {
   "cell_type": "markdown",
   "metadata": {},
   "source": [
    "Construye tu propia implementación de regresión lineal. Para ello, recuerda cómo está formulada la solución de la tarea de regresión lineal en términos de LA. Comprueba la RECM tanto para los datos originales como para los escalados. ¿Puedes ver alguna diferencia en la RECM con respecto a estos dos casos?\n",
    "\n",
    "Denotemos- $X$: matriz de características; cada fila es un caso, cada columna es una característica, la primera columna está formada por unidades- $y$ — objetivo (un vector)- $\\hat{y}$ — objetivo estimado (un vector)- $w$ — vector de pesos\n",
    "La tarea de regresión lineal en el lenguaje de las matrices puede formularse así:\n",
    "$$\n",
    "y = Xw\n",
    "$$\n",
    "\n",
    "El objetivo de entrenamiento es entonces encontrar esa $w$ w que minimice la distancia L2 (ECM) entre $Xw$ y $y$:\n",
    "\n",
    "$$\n",
    "\\min_w d_2(Xw, y) \\quad \\text{or} \\quad \\min_w \\text{MSE}(Xw, y)\n",
    "$$\n",
    "\n",
    "Parece que hay una solución analítica para lo anteriormente expuesto:\n",
    "$$\n",
    "w = (X^T X)^{-1} X^T y\n",
    "$$\n",
    "\n",
    "La fórmula anterior puede servir para encontrar los pesos $w$ y estos últimos pueden utilizarse para calcular los valores predichos\n",
    "$$\n",
    "\\hat{y} = X_{val}w\n",
    "$$"
   ]
  },
  {
   "cell_type": "markdown",
   "metadata": {},
   "source": [
    "Divide todos los datos correspondientes a las etapas de entrenamiento/prueba respetando la proporción 70:30. Utiliza la métrica RECM para evaluar el modelo."
   ]
  },
  {
   "cell_type": "code",
   "execution_count": 385,
   "metadata": {},
   "outputs": [],
   "source": [
    "class MyLinearRegression:\n",
    "    \n",
    "    def __init__(self):\n",
    "        \n",
    "        self.weights = None\n",
    "    \n",
    "    def fit(self, X, y):\n",
    "        \n",
    "        # añadir las unidades\n",
    "        X2 = np.append(np.ones([len(X), 1]), X, axis=1)\n",
    "        self.weights = np.linalg.inv(X2.T @ X2) @ X2.T @ y\n",
    "        \n",
    "    def predict(self, X):\n",
    "        \n",
    "        # añadir las unidades\n",
    "        X2 = np.append(np.ones([len(X), 1]), X, axis=1)\n",
    "        y_pred = X2 @ self.weights\n",
    "        \n",
    "        return y_pred"
   ]
  },
  {
   "cell_type": "code",
   "execution_count": 387,
   "metadata": {},
   "outputs": [],
   "source": [
    "def eval_regressor(y_true, y_pred):\n",
    "    \n",
    "    rmse = math.sqrt(sklearn.metrics.mean_squared_error(y_true, y_pred))\n",
    "    print(f'RMSE: {rmse:.2f}')\n",
    "    \n",
    "    r2_score = math.sqrt(sklearn.metrics.r2_score(y_true, y_pred))\n",
    "    print(f'R2: {r2_score:.2f}')    "
   ]
  },
  {
   "cell_type": "code",
   "execution_count": 389,
   "metadata": {},
   "outputs": [
    {
     "name": "stdout",
     "output_type": "stream",
     "text": [
      "[-9.43539012e-01  3.57495491e-02  1.64272726e-02 -2.60743659e-07\n",
      " -1.16902127e-02]\n",
      "RMSE: 0.34\n",
      "R2: 0.66\n"
     ]
    }
   ],
   "source": [
    "X = df[['age', 'gender', 'income', 'family_members']].to_numpy()\n",
    "y = df['insurance_benefits'].to_numpy()\n",
    "\n",
    "X_train, X_test, y_train, y_test = train_test_split(X, y, test_size=0.3, random_state=12345)\n",
    "\n",
    "lr = MyLinearRegression()\n",
    "\n",
    "lr.fit(X_train, y_train)\n",
    "print(lr.weights)\n",
    "\n",
    "y_test_pred = lr.predict(X_test)\n",
    "eval_regressor(y_test, y_test_pred)"
   ]
  },
  {
   "cell_type": "code",
   "execution_count": 391,
   "metadata": {},
   "outputs": [
    {
     "name": "stdout",
     "output_type": "stream",
     "text": [
      "[-6.50583302e-01 -7.31018901e-04  1.60816093e+00  1.08173008e-02\n",
      " -3.79749246e-02]\n",
      "RMSE: 0.23\n",
      "R2: 0.66\n"
     ]
    }
   ],
   "source": [
    "X = df[['age', 'gender', 'income', 'family_members']].to_numpy()\n",
    "y = df['insurance_benefits'].to_numpy()\n",
    "\n",
    "lr = MyLinearRegression()\n",
    "\n",
    "lr.fit(X_train_scl, y_train_scl)\n",
    "print(lr.weights)\n",
    "\n",
    "y_test_pred = lr.predict(X_test_scl)\n",
    "eval_regressor(y_test_scl, y_test_pred)"
   ]
  },
  {
   "cell_type": "markdown",
   "metadata": {},
   "source": [
    "**Observaciones**\n",
    "\n",
    "1. Se observa que para la regresión lineal los datos escalados presentan un menor error RMSE\n",
    "2. Este proceso de escalados también afecta en los valores de los pesos de la regresión claramente.\n",
    "3. R2 se mantiene con el mismo valor."
   ]
  },
  {
   "cell_type": "markdown",
   "metadata": {},
   "source": [
    "# Tarea 4. Ofuscar datos"
   ]
  },
  {
   "cell_type": "markdown",
   "metadata": {},
   "source": [
    "Lo mejor es ofuscar los datos multiplicando las características numéricas (recuerda que se pueden ver como la matriz $X$) por una matriz invertible $P$. \n",
    "\n",
    "$$\n",
    "X' = X \\times P\n",
    "$$\n",
    "\n",
    "Trata de hacerlo y comprueba cómo quedarán los valores de las características después de la transformación. Por cierto, la propiedad de invertibilidad es importante aquí, así que asegúrate de que $P$ sea realmente invertible.\n",
    "\n",
    "Puedes revisar la lección 'Matrices y operaciones matriciales -> Multiplicación de matrices' para recordar la regla de multiplicación de matrices y su implementación con NumPy."
   ]
  },
  {
   "cell_type": "code",
   "execution_count": 396,
   "metadata": {},
   "outputs": [],
   "source": [
    "personal_info_column_list = ['gender', 'age', 'income', 'family_members']\n",
    "df_pn = df[personal_info_column_list]"
   ]
  },
  {
   "cell_type": "code",
   "execution_count": 398,
   "metadata": {},
   "outputs": [],
   "source": [
    "X = df_pn.to_numpy()"
   ]
  },
  {
   "cell_type": "markdown",
   "metadata": {},
   "source": [
    "Generar una matriz aleatoria $P$."
   ]
  },
  {
   "cell_type": "code",
   "execution_count": 401,
   "metadata": {},
   "outputs": [],
   "source": [
    "rng = np.random.default_rng(seed=42)\n",
    "P = rng.random(size=(X.shape[1], X.shape[1]))"
   ]
  },
  {
   "cell_type": "markdown",
   "metadata": {},
   "source": [
    "Comprobar que la matriz P sea invertible"
   ]
  },
  {
   "cell_type": "code",
   "execution_count": 404,
   "metadata": {},
   "outputs": [
    {
     "name": "stdout",
     "output_type": "stream",
     "text": [
      "0.24339135998015468\n"
     ]
    }
   ],
   "source": [
    "det = np.linalg.det(P)\n",
    "print(det)"
   ]
  },
  {
   "cell_type": "markdown",
   "metadata": {},
   "source": [
    "Como el determinante de la matriz P es diferente de 0, la matriz P es invertible.\n",
    "\n",
    "Otra forma es comprobando que <td>$A^{-1}A = AA^{-1} = I$:\n"
   ]
  },
  {
   "cell_type": "code",
   "execution_count": 407,
   "metadata": {},
   "outputs": [
    {
     "name": "stdout",
     "output_type": "stream",
     "text": [
      "[[ 1.00000000e+00 -2.22044605e-16  4.44089210e-16 -7.77156117e-16]\n",
      " [-1.11022302e-16  1.00000000e+00  2.22044605e-16  2.77555756e-16]\n",
      " [-1.77635684e-15 -1.11022302e-15  1.00000000e+00 -2.44249065e-15]\n",
      " [ 3.60822483e-16 -8.46545056e-16  2.84494650e-16  1.00000000e+00]]\n"
     ]
    }
   ],
   "source": [
    "I = np.linalg.inv(P.T @ P) @ P.T @ P\n",
    "print(I)"
   ]
  },
  {
   "cell_type": "markdown",
   "metadata": {},
   "source": [
    "¿Puedes adivinar la edad o los ingresos de los clientes después de la transformación?"
   ]
  },
  {
   "cell_type": "markdown",
   "metadata": {},
   "source": [
    "Sí, se debe volver a multiplar la matriz resultante de la tranformación por la matriz P inversa"
   ]
  },
  {
   "cell_type": "markdown",
   "metadata": {},
   "source": [
    "¿Puedes recuperar los datos originales de $X'$ si conoces $P$? Intenta comprobarlo a través de los cálculos moviendo $P$ del lado derecho de la fórmula anterior al izquierdo. En este caso las reglas de la multiplicación matricial son realmente útiles"
   ]
  },
  {
   "cell_type": "markdown",
   "metadata": {},
   "source": [
    "$$\n",
    "X' = X \\times P\n",
    "$$\n",
    "$$\n",
    "X'\\times P^{-1} = X \n",
    "$$"
   ]
  },
  {
   "cell_type": "markdown",
   "metadata": {},
   "source": [
    "Muestra los tres casos para algunos clientes- Datos originales\n",
    "- El que está transformado- El que está invertido (recuperado)"
   ]
  },
  {
   "cell_type": "code",
   "execution_count": 414,
   "metadata": {},
   "outputs": [
    {
     "name": "stdout",
     "output_type": "stream",
     "text": [
      "[[1.00e+00 4.10e+01 4.96e+04 1.00e+00]\n",
      " [0.00e+00 4.60e+01 3.80e+04 1.00e+00]\n",
      " [0.00e+00 2.90e+01 2.10e+04 0.00e+00]]\n",
      "[[ 6359.71527314 22380.40467609 18424.09074184 46000.69669016]\n",
      " [ 4873.29406479 17160.36702982 14125.78076133 35253.45577301]\n",
      " [ 2693.11742928  9486.397744    7808.83156024 19484.86063067]]\n",
      "[[ 1.00000000e+00  4.10000000e+01  4.96000000e+04  1.00000000e+00]\n",
      " [-3.18323146e-12  4.60000000e+01  3.80000000e+04  1.00000000e+00]\n",
      " [ 1.36424205e-12  2.90000000e+01  2.10000000e+04  0.00000000e+00]]\n"
     ]
    }
   ],
   "source": [
    "print(X[0:3])\n",
    "X2 = X @ P\n",
    "print(X2[0:3])\n",
    "X1 = X2 @ np.linalg.inv(P)\n",
    "print(X1[0:3])"
   ]
  },
  {
   "cell_type": "markdown",
   "metadata": {},
   "source": [
    "Seguramente puedes ver que algunos valores no son exactamente iguales a los de los datos originales. ¿Cuál podría ser la razón de ello?"
   ]
  },
  {
   "cell_type": "markdown",
   "metadata": {},
   "source": [
    "Una razón es que la computadora esta trabajando con punto flotante de 64 bits, eso hace que exprese el 0 de una forma muy pequeña "
   ]
  },
  {
   "cell_type": "markdown",
   "metadata": {},
   "source": [
    "## Prueba de que la ofuscación de datos puede funcionar con regresión lineal"
   ]
  },
  {
   "cell_type": "markdown",
   "metadata": {},
   "source": [
    "En este proyecto la tarea de regresión se ha resuelto con la regresión lineal. Tu siguiente tarea es demostrar _analytically_ que el método de ofuscación no afectará a la regresión lineal en términos de valores predichos, es decir, que sus valores seguirán siendo los mismos. ¿Lo puedes creer? Pues no hace falta que lo creas, ¡tienes que que demostrarlo!"
   ]
  },
  {
   "cell_type": "markdown",
   "metadata": {},
   "source": [
    "Entonces, los datos están ofuscados y ahora tenemos $X \\times P$ en lugar de tener solo $X$. En consecuencia, hay otros pesos $w_P$ como\n",
    "$$\n",
    "w = (X^T X)^{-1} X^T y \\quad \\Rightarrow \\quad w_P = [(XP)^T XP]^{-1} (XP)^T y\n",
    "$$\n",
    "\n",
    "¿Cómo se relacionarían $w$ y $w_P$ si simplificáramos la fórmula de $w_P$ anterior? \n",
    "\n",
    "¿Cuáles serían los valores predichos con $w_P$? \n",
    "\n",
    "¿Qué significa esto para la calidad de la regresión lineal si esta se mide mediante la RECM?\n",
    "Revisa el Apéndice B Propiedades de las matrices al final del cuaderno. ¡Allí encontrarás fórmulas muy útiles!\n",
    "\n",
    "No es necesario escribir código en esta sección, basta con una explicación analítica."
   ]
  },
  {
   "cell_type": "markdown",
   "metadata": {},
   "source": [
    "**Respuesta**"
   ]
  },
  {
   "cell_type": "markdown",
   "metadata": {},
   "source": [
    "La transformación de los datos mediante una matriz invertible 𝑃 no afecta los valores predichos ni la calidad de la regresión lineal. Esto asegura que la ofuscación de datos es segura en términos de preservar la calidad del modelo."
   ]
  },
  {
   "cell_type": "markdown",
   "metadata": {},
   "source": [
    "**Prueba analítica**"
   ]
  },
  {
   "cell_type": "markdown",
   "metadata": {},
   "source": [
    "Regresión lineal con datos ofuscados:\n",
    "$$\n",
    "w_P = [(XP)^T XP]^{-1} (XP)^T y\n",
    "$$\n",
    "Expandiendo:\n",
    "$$\n",
    "(XP)^T XP = P^T X^T XP\n",
    "$$\n",
    "Entonces:\n",
    "$$\n",
    "w_P = [P^T X^T XP]^{-1} (P^T X^T) y\n",
    "$$\n",
    "RELACIÓN ENTRE w y wp:\n",
    "    -Usando la propiedad de inversión de matrices:\n",
    "$$\n",
    "[P^T X^T XP]^{-1} = P^{-1}(X^T X)\n",
    "$$\n",
    "Sustituyendo en la fórmula de wp:\n",
    "$$\n",
    "w_P = P^{-1}(X^T X)^{-1} (P^T)^{-1} P^T X^T y\n",
    "$$\n",
    "Por propiedad de identidad multiplicativa:\n",
    "$$\n",
    "w_P = P^{-1}(X^T X)^{-1} X^T y\n",
    "$$\n",
    "Dado que $$ w = (X^T X)^{-1} X^T y, tenemos: $$\n",
    "$$\n",
    "w_P = P^{-1}w\n",
    "$$\n",
    "\n",
    "VALORES PREDICHOS CON wp:\n",
    "$$\n",
    "y_P = (XP)w_P\n",
    "$$\n",
    "Sustituyendo wp:\n",
    "$$\n",
    "y_P = (XP)(P^{-1}w)\n",
    "$$\n",
    "Por propiedad de identidad multiplicativa:\n",
    "$$\n",
    "y_P = Xw\n",
    "$$\n",
    "Esto demuestra que:\n",
    "$$\n",
    "y_P = y\n",
    "$$\n",
    "Dado que yp = y, los valores predichos no cambian, y por lo tanto:\n",
    "$$\n",
    "RECM_P = RECM\n",
    "$$"
   ]
  },
  {
   "cell_type": "markdown",
   "metadata": {},
   "source": [
    "## Prueba de regresión lineal con ofuscación de datos"
   ]
  },
  {
   "cell_type": "markdown",
   "metadata": {},
   "source": [
    "Ahora, probemos que la regresión lineal pueda funcionar, en términos computacionales, con la transformación de ofuscación elegida.\n",
    "Construye un procedimiento o una clase que ejecute la regresión lineal opcionalmente con la ofuscación. Puedes usar una implementación de regresión lineal de scikit-learn o tu propia implementación.\n",
    "Ejecuta la regresión lineal para los datos originales y los ofuscados, compara los valores predichos y los valores de las métricas RMSE y $R^2$. ¿Hay alguna diferencia?"
   ]
  },
  {
   "cell_type": "markdown",
   "metadata": {},
   "source": [
    "**Procedimiento**\n",
    "\n",
    "- Crea una matriz cuadrada $P$ de números aleatorios.- Comprueba que sea invertible. Si no lo es, repite el primer paso hasta obtener una matriz invertible.- Fue invertible al segundo intento\n",
    "- Utiliza $XP$ como la nueva matriz de características"
   ]
  },
  {
   "cell_type": "code",
   "execution_count": 428,
   "metadata": {},
   "outputs": [
    {
     "name": "stdout",
     "output_type": "stream",
     "text": [
      "[[0.5488135  0.71518937 0.60276338 0.54488318]\n",
      " [0.4236548  0.64589411 0.43758721 0.891773  ]\n",
      " [0.96366276 0.38344152 0.79172504 0.52889492]\n",
      " [0.56804456 0.92559664 0.07103606 0.0871293 ]]\n",
      "0.13938851462425653\n"
     ]
    }
   ],
   "source": [
    "np.random.seed(0)\n",
    "P = np.random.rand(4,4)\n",
    "print(P)\n",
    "det = np.linalg.det(P)\n",
    "print(det)"
   ]
  },
  {
   "cell_type": "code",
   "execution_count": 430,
   "metadata": {},
   "outputs": [],
   "source": [
    "class MyLinearRegression:\n",
    "    \n",
    "    def __init__(self):\n",
    "        \n",
    "        self.weights = None\n",
    "    \n",
    "    def fit(self, X, y):\n",
    "        \n",
    "        # añadir las unidades\n",
    "        X2 = np.append(np.ones([len(X), 1]), X, axis=1)\n",
    "        self.weights = np.linalg.inv(X2.T @ X2) @ X2.T @ y\n",
    "        \n",
    "    def predict(self, X):\n",
    "        \n",
    "        # añadir las unidades\n",
    "        X2 = np.append(np.ones([len(X), 1]), X, axis=1)\n",
    "        y_pred = X2 @ self.weights\n",
    "        \n",
    "        return y_pred"
   ]
  },
  {
   "cell_type": "code",
   "execution_count": 432,
   "metadata": {},
   "outputs": [],
   "source": [
    "def eval_regressor(y_true, y_pred):\n",
    "    \n",
    "    rmse = math.sqrt(sklearn.metrics.mean_squared_error(y_true, y_pred))\n",
    "    print(f'RMSE: {rmse:.2f}')\n",
    "    \n",
    "    r2_score = math.sqrt(sklearn.metrics.r2_score(y_true, y_pred))\n",
    "    print(f'R2: {r2_score:.2f}')   "
   ]
  },
  {
   "cell_type": "code",
   "execution_count": 434,
   "metadata": {},
   "outputs": [
    {
     "name": "stdout",
     "output_type": "stream",
     "text": [
      "[-9.43539012e-01  1.64272726e-02  3.57495491e-02 -2.60743659e-07\n",
      " -1.16902127e-02]\n",
      "RMSE: 0.34\n",
      "R2: 0.66\n",
      "[-0.94353848 -0.03865472  0.00560961  0.01189941  0.04854999]\n",
      "RMSE: 0.34\n",
      "R2: 0.66\n"
     ]
    }
   ],
   "source": [
    "X_ofus = X @ P\n",
    "\n",
    "X_train, X_test, y_train, y_test = train_test_split(X, y, test_size=0.3, random_state=12345)\n",
    "X_train_ofus, X_test_ofus, y_train_ofus, y_test_ofus = train_test_split(X_ofus, y, test_size=0.3, random_state=12345)\n",
    "\n",
    "lin_r = MyLinearRegression()\n",
    "\n",
    "# Regresión con datos sin ofuscar\n",
    "lin_r.fit(X_train, y_train)\n",
    "print(lin_r.weights)\n",
    "\n",
    "y_test_pred = lin_r.predict(X_test)\n",
    "eval_regressor(y_test, y_test_pred)\n",
    "\n",
    "# Regresión con datos ofuscados\n",
    "lin_r.fit(X_train_ofus, y_train_ofus)\n",
    "print(lin_r.weights)\n",
    "\n",
    "y_test_pred_ofus = lin_r.predict(X_test_ofus)\n",
    "eval_regressor(y_test_ofus, y_test_pred_ofus)\n"
   ]
  },
  {
   "cell_type": "markdown",
   "metadata": {},
   "source": [
    "Conclusión:\n",
    "\n",
    "Los valores de peso cambiaron, lo que era de esperarse pero los errores mantuvieron su valor lo que demuestra que la técnica de ofuscación mantiene la calidad del modelo "
   ]
  },
  {
   "cell_type": "markdown",
   "metadata": {},
   "source": [
    "# Conclusiones"
   ]
  },
  {
   "cell_type": "markdown",
   "metadata": {},
   "source": [
    "1. Se presentaron dato sin problemas aparentes\n",
    "2. El análisis exploratarió no mostro relaciones concluyentes\n",
    "3. En estos datos la distancia Euclediana mostro mejores resultados que la distania manhatan\n",
    "4. El escalado de los datos mostró una mejora significativa tanto en los algoritmos KNN al encontrar las distancias y al clasificar como el de regresión lineal\n",
    "5. En los primeros vecinos cercanos se lográ una buena clasificación y con datos escalados\n",
    "6. Se demostró que la técnica de ofuscación preserva la calidad de los modelos afectando sólo a los valores de pesos\n",
    "7. Se implemetó correctamente nuestro propio algoritmo de regresión lineal\n",
    "8. Se aprendieron Propiedades de las matrices"
   ]
  },
  {
   "cell_type": "markdown",
   "metadata": {},
   "source": [
    "# Apéndices\n",
    "\n",
    "## Apéndice A: Escribir fórmulas en los cuadernos de Jupyter"
   ]
  },
  {
   "cell_type": "markdown",
   "metadata": {},
   "source": [
    "Puedes escribir fórmulas en tu Jupyter Notebook utilizando un lenguaje de marcado proporcionado por un sistema de publicación de alta calidad llamado $\\LaTeX$ (se pronuncia como \"Lah-tech\"). Las fórmulas se verán como las de los libros de texto.\n",
    "\n",
    "Para incorporar una fórmula a un texto, pon el signo de dólar (\\\\$) antes y después del texto de la fórmula, por ejemplo: $\\frac{1}{2} \\times \\frac{3}{2} = \\frac{3}{4}$ or $y = x^2, x \\ge 1$.\n",
    "\n",
    "Si una fórmula debe estar en el mismo párrafo, pon el doble signo de dólar (\\\\$\\\\$) antes y después del texto de la fórmula, por ejemplo:\n",
    "$$\n",
    "\\bar{x} = \\frac{1}{n}\\sum_{i=1}^{n} x_i.\n",
    "$$\n",
    "\n",
    "El lenguaje de marcado de [LaTeX](https://es.wikipedia.org/wiki/LaTeX) es muy popular entre las personas que utilizan fórmulas en sus artículos, libros y textos. Puede resultar complicado, pero sus fundamentos son sencillos. Consulta esta [ficha de ayuda](http://tug.ctan.org/info/undergradmath/undergradmath.pdf) (materiales en inglés) de dos páginas para aprender a componer las fórmulas más comunes."
   ]
  },
  {
   "cell_type": "markdown",
   "metadata": {},
   "source": [
    "## Apéndice B: Propiedades de las matrices"
   ]
  },
  {
   "cell_type": "markdown",
   "metadata": {},
   "source": [
    "Las matrices tienen muchas propiedades en cuanto al álgebra lineal. Aquí se enumeran algunas de ellas que pueden ayudarte a la hora de realizar la prueba analítica de este proyecto."
   ]
  },
  {
   "cell_type": "markdown",
   "metadata": {},
   "source": [
    "<table>\n",
    "<tr>\n",
    "<td>Distributividad</td><td>$A(B+C)=AB+AC$</td>\n",
    "</tr>\n",
    "<tr>\n",
    "<td>No conmutatividad</td><td>$AB \\neq BA$</td>\n",
    "</tr>\n",
    "<tr>\n",
    "<td>Propiedad asociativa de la multiplicación</td><td>$(AB)C = A(BC)$</td>\n",
    "</tr>\n",
    "<tr>\n",
    "<td>Propiedad de identidad multiplicativa</td><td>$IA = AI = A$</td>\n",
    "</tr>\n",
    "<tr>\n",
    "<td></td><td>$A^{-1}A = AA^{-1} = I$\n",
    "</td>\n",
    "</tr>    \n",
    "<tr>\n",
    "<td></td><td>$(AB)^{-1} = B^{-1}A^{-1}$</td>\n",
    "</tr>    \n",
    "<tr>\n",
    "<td>Reversibilidad de la transposición de un producto de matrices,</td><td>$(AB)^T = B^TA^T$</td>\n",
    "</tr>    \n",
    "</table>"
   ]
  }
 ],
 "metadata": {
  "ExecuteTimeLog": [
   {
    "duration": 2496,
    "start_time": "2024-12-11T22:45:51.793Z"
   },
   {
    "duration": 2717,
    "start_time": "2024-12-12T00:29:52.480Z"
   },
   {
    "duration": 13,
    "start_time": "2024-12-12T00:29:55.199Z"
   },
   {
    "duration": 3,
    "start_time": "2024-12-12T00:29:55.214Z"
   },
   {
    "duration": 10,
    "start_time": "2024-12-12T00:29:55.220Z"
   },
   {
    "duration": 9,
    "start_time": "2024-12-12T00:29:55.231Z"
   },
   {
    "duration": 7,
    "start_time": "2024-12-12T00:29:55.241Z"
   },
   {
    "duration": 3,
    "start_time": "2024-12-12T00:29:55.250Z"
   },
   {
    "duration": 8,
    "start_time": "2024-12-12T00:29:55.254Z"
   },
   {
    "duration": 41,
    "start_time": "2024-12-12T00:29:55.264Z"
   },
   {
    "duration": 17,
    "start_time": "2024-12-12T00:29:55.307Z"
   },
   {
    "duration": 2523,
    "start_time": "2024-12-12T00:29:56.330Z"
   },
   {
    "duration": 2,
    "start_time": "2024-12-12T00:29:58.856Z"
   },
   {
    "duration": 5,
    "start_time": "2024-12-12T00:29:58.859Z"
   },
   {
    "duration": 319,
    "start_time": "2024-12-12T00:30:00.859Z"
   },
   {
    "duration": 22,
    "start_time": "2024-12-12T00:30:24.209Z"
   },
   {
    "duration": 4,
    "start_time": "2024-12-12T00:30:39.252Z"
   },
   {
    "duration": 24,
    "start_time": "2024-12-12T00:30:41.821Z"
   },
   {
    "duration": 4,
    "start_time": "2024-12-12T00:34:48.443Z"
   },
   {
    "duration": 185,
    "start_time": "2024-12-12T00:34:49.049Z"
   },
   {
    "duration": 3,
    "start_time": "2024-12-12T00:35:01.068Z"
   },
   {
    "duration": 72,
    "start_time": "2024-12-12T00:35:02.411Z"
   },
   {
    "duration": 3,
    "start_time": "2024-12-12T00:41:04.197Z"
   },
   {
    "duration": 103,
    "start_time": "2024-12-12T00:41:04.911Z"
   },
   {
    "duration": 2,
    "start_time": "2024-12-12T00:52:56.773Z"
   },
   {
    "duration": 3,
    "start_time": "2024-12-12T00:52:57.162Z"
   },
   {
    "duration": 56,
    "start_time": "2024-12-12T00:52:57.776Z"
   },
   {
    "duration": 4,
    "start_time": "2024-12-12T00:59:47.548Z"
   },
   {
    "duration": 36,
    "start_time": "2024-12-12T00:59:48.305Z"
   },
   {
    "duration": 3,
    "start_time": "2024-12-12T02:26:22.044Z"
   },
   {
    "duration": 33,
    "start_time": "2024-12-12T02:26:24.309Z"
   },
   {
    "duration": 4,
    "start_time": "2024-12-12T02:32:11.541Z"
   },
   {
    "duration": 102,
    "start_time": "2024-12-12T02:32:12.133Z"
   },
   {
    "duration": 5,
    "start_time": "2024-12-12T02:33:02.881Z"
   },
   {
    "duration": 3,
    "start_time": "2024-12-12T02:33:19.094Z"
   },
   {
    "duration": 3,
    "start_time": "2024-12-12T02:33:20.120Z"
   },
   {
    "duration": 13,
    "start_time": "2024-12-12T02:33:20.435Z"
   },
   {
    "duration": 71,
    "start_time": "2024-12-12T02:35:03.122Z"
   },
   {
    "duration": 9,
    "start_time": "2024-12-12T02:35:48.767Z"
   },
   {
    "duration": 7,
    "start_time": "2024-12-12T02:35:49.166Z"
   },
   {
    "duration": 140,
    "start_time": "2024-12-12T02:35:53.077Z"
   },
   {
    "duration": 6,
    "start_time": "2024-12-12T02:42:49.499Z"
   },
   {
    "duration": 4,
    "start_time": "2024-12-12T02:43:11.304Z"
   },
   {
    "duration": 14,
    "start_time": "2024-12-12T02:43:34.710Z"
   },
   {
    "duration": 21,
    "start_time": "2024-12-12T02:44:00.021Z"
   },
   {
    "duration": 14,
    "start_time": "2024-12-12T02:44:32.513Z"
   },
   {
    "duration": 7,
    "start_time": "2024-12-12T02:47:14.834Z"
   },
   {
    "duration": 3,
    "start_time": "2024-12-12T02:50:25.934Z"
   },
   {
    "duration": 4,
    "start_time": "2024-12-12T02:50:26.868Z"
   },
   {
    "duration": 23,
    "start_time": "2024-12-12T02:50:27.508Z"
   },
   {
    "duration": 3,
    "start_time": "2024-12-12T02:50:50.197Z"
   },
   {
    "duration": 19,
    "start_time": "2024-12-12T02:50:54.005Z"
   },
   {
    "duration": 3,
    "start_time": "2024-12-12T03:09:34.861Z"
   },
   {
    "duration": 4,
    "start_time": "2024-12-12T03:09:36.381Z"
   },
   {
    "duration": 3,
    "start_time": "2024-12-12T03:09:38.518Z"
   },
   {
    "duration": 5,
    "start_time": "2024-12-12T03:31:00.708Z"
   },
   {
    "duration": 16,
    "start_time": "2024-12-12T03:39:38.005Z"
   },
   {
    "duration": 17,
    "start_time": "2024-12-12T03:59:41.392Z"
   },
   {
    "duration": 8,
    "start_time": "2024-12-12T04:01:16.495Z"
   },
   {
    "duration": 2,
    "start_time": "2024-12-12T04:19:09.314Z"
   },
   {
    "duration": 7,
    "start_time": "2024-12-12T04:19:09.734Z"
   },
   {
    "duration": 56,
    "start_time": "2024-12-12T04:19:10.334Z"
   },
   {
    "duration": 38,
    "start_time": "2024-12-12T04:19:31.718Z"
   },
   {
    "duration": 4,
    "start_time": "2024-12-12T04:20:41.655Z"
   },
   {
    "duration": 52,
    "start_time": "2024-12-12T04:22:09.481Z"
   },
   {
    "duration": 3,
    "start_time": "2024-12-12T04:23:02.920Z"
   },
   {
    "duration": 6,
    "start_time": "2024-12-12T04:23:03.327Z"
   },
   {
    "duration": 43,
    "start_time": "2024-12-12T04:23:03.759Z"
   },
   {
    "duration": 3,
    "start_time": "2024-12-12T04:23:22.598Z"
   },
   {
    "duration": 3,
    "start_time": "2024-12-12T04:23:30.673Z"
   },
   {
    "duration": 6,
    "start_time": "2024-12-12T04:23:30.991Z"
   },
   {
    "duration": 591,
    "start_time": "2024-12-12T04:23:31.343Z"
   },
   {
    "duration": 560,
    "start_time": "2024-12-12T04:25:24.047Z"
   },
   {
    "duration": 3,
    "start_time": "2024-12-12T04:27:44.671Z"
   },
   {
    "duration": 16,
    "start_time": "2024-12-12T04:29:59.111Z"
   },
   {
    "duration": 14,
    "start_time": "2024-12-12T04:30:25.430Z"
   },
   {
    "duration": 16,
    "start_time": "2024-12-12T04:32:58.773Z"
   },
   {
    "duration": 199,
    "start_time": "2024-12-12T04:33:10.446Z"
   },
   {
    "duration": 204,
    "start_time": "2024-12-12T04:34:04.874Z"
   },
   {
    "duration": 210,
    "start_time": "2024-12-12T04:34:14.159Z"
   },
   {
    "duration": 199,
    "start_time": "2024-12-12T04:34:32.036Z"
   },
   {
    "duration": 4,
    "start_time": "2024-12-12T04:59:51.065Z"
   },
   {
    "duration": 4,
    "start_time": "2024-12-12T04:59:52.928Z"
   },
   {
    "duration": 3,
    "start_time": "2024-12-12T04:59:54.087Z"
   },
   {
    "duration": 24,
    "start_time": "2024-12-12T04:59:59.187Z"
   },
   {
    "duration": 4,
    "start_time": "2024-12-12T05:00:50.203Z"
   },
   {
    "duration": 3,
    "start_time": "2024-12-12T05:00:50.666Z"
   },
   {
    "duration": 25,
    "start_time": "2024-12-12T05:00:51.239Z"
   },
   {
    "duration": 3,
    "start_time": "2024-12-12T05:01:12.953Z"
   },
   {
    "duration": 3,
    "start_time": "2024-12-12T05:01:13.313Z"
   },
   {
    "duration": 35,
    "start_time": "2024-12-12T05:01:13.878Z"
   },
   {
    "duration": 3,
    "start_time": "2024-12-12T05:02:29.935Z"
   },
   {
    "duration": 7,
    "start_time": "2024-12-12T05:02:36.063Z"
   },
   {
    "duration": 3,
    "start_time": "2024-12-12T05:03:25.073Z"
   },
   {
    "duration": 3,
    "start_time": "2024-12-12T05:03:25.414Z"
   },
   {
    "duration": 23,
    "start_time": "2024-12-12T05:03:26.238Z"
   },
   {
    "duration": 4,
    "start_time": "2024-12-12T05:04:02.037Z"
   },
   {
    "duration": 3,
    "start_time": "2024-12-12T05:04:02.393Z"
   },
   {
    "duration": 7,
    "start_time": "2024-12-12T05:04:02.998Z"
   },
   {
    "duration": 8,
    "start_time": "2024-12-12T05:06:35.748Z"
   },
   {
    "duration": 10,
    "start_time": "2024-12-12T05:08:15.551Z"
   },
   {
    "duration": 79,
    "start_time": "2024-12-12T05:16:42.535Z"
   },
   {
    "duration": 23,
    "start_time": "2024-12-12T05:17:02.663Z"
   },
   {
    "duration": 23,
    "start_time": "2024-12-12T05:17:41.834Z"
   },
   {
    "duration": 3,
    "start_time": "2024-12-12T05:18:10.696Z"
   },
   {
    "duration": 3,
    "start_time": "2024-12-12T05:18:11.119Z"
   },
   {
    "duration": 3,
    "start_time": "2024-12-12T05:18:11.956Z"
   },
   {
    "duration": 3,
    "start_time": "2024-12-12T05:18:17.369Z"
   },
   {
    "duration": 3,
    "start_time": "2024-12-12T05:19:29.436Z"
   },
   {
    "duration": 3,
    "start_time": "2024-12-12T05:20:47.046Z"
   },
   {
    "duration": 3,
    "start_time": "2024-12-12T05:21:04.114Z"
   },
   {
    "duration": 3,
    "start_time": "2024-12-12T05:22:26.883Z"
   },
   {
    "duration": 2,
    "start_time": "2024-12-12T05:22:27.247Z"
   },
   {
    "duration": 2,
    "start_time": "2024-12-12T05:22:28.441Z"
   },
   {
    "duration": 3,
    "start_time": "2024-12-12T05:22:29.703Z"
   },
   {
    "duration": 2,
    "start_time": "2024-12-12T05:32:03.398Z"
   },
   {
    "duration": 3,
    "start_time": "2024-12-12T05:32:13.913Z"
   },
   {
    "duration": 3,
    "start_time": "2024-12-12T05:32:27.720Z"
   },
   {
    "duration": 3,
    "start_time": "2024-12-12T05:32:41.088Z"
   },
   {
    "duration": 4,
    "start_time": "2024-12-12T05:33:18.287Z"
   },
   {
    "duration": 3,
    "start_time": "2024-12-12T05:33:42.596Z"
   },
   {
    "duration": 3,
    "start_time": "2024-12-12T05:34:47.888Z"
   },
   {
    "duration": 4,
    "start_time": "2024-12-12T05:36:13.782Z"
   },
   {
    "duration": 13,
    "start_time": "2024-12-12T05:42:37.860Z"
   },
   {
    "duration": 14,
    "start_time": "2024-12-12T05:42:52.441Z"
   },
   {
    "duration": 3,
    "start_time": "2024-12-12T05:44:41.296Z"
   },
   {
    "duration": 3,
    "start_time": "2024-12-12T05:46:01.658Z"
   },
   {
    "duration": 3,
    "start_time": "2024-12-12T05:46:32.651Z"
   },
   {
    "duration": 3,
    "start_time": "2024-12-12T05:47:56.943Z"
   },
   {
    "duration": 3,
    "start_time": "2024-12-12T05:48:13.462Z"
   },
   {
    "duration": 3,
    "start_time": "2024-12-12T05:48:13.901Z"
   },
   {
    "duration": 3,
    "start_time": "2024-12-12T05:48:14.559Z"
   },
   {
    "duration": 3,
    "start_time": "2024-12-12T05:48:15.374Z"
   },
   {
    "duration": 4,
    "start_time": "2024-12-12T05:48:16.530Z"
   },
   {
    "duration": 4,
    "start_time": "2024-12-12T05:48:39.409Z"
   },
   {
    "duration": 158,
    "start_time": "2024-12-12T07:17:13.208Z"
   },
   {
    "duration": 12,
    "start_time": "2024-12-12T07:17:35.583Z"
   },
   {
    "duration": 12,
    "start_time": "2024-12-12T07:18:38.760Z"
   },
   {
    "duration": 2736,
    "start_time": "2024-12-12T07:18:49.755Z"
   },
   {
    "duration": 13,
    "start_time": "2024-12-12T07:18:52.493Z"
   },
   {
    "duration": 3,
    "start_time": "2024-12-12T07:18:52.507Z"
   },
   {
    "duration": 11,
    "start_time": "2024-12-12T07:18:52.513Z"
   },
   {
    "duration": 21,
    "start_time": "2024-12-12T07:18:52.525Z"
   },
   {
    "duration": 7,
    "start_time": "2024-12-12T07:18:52.547Z"
   },
   {
    "duration": 3,
    "start_time": "2024-12-12T07:18:52.556Z"
   },
   {
    "duration": 9,
    "start_time": "2024-12-12T07:18:52.561Z"
   },
   {
    "duration": 7,
    "start_time": "2024-12-12T07:18:52.571Z"
   },
   {
    "duration": 16,
    "start_time": "2024-12-12T07:18:52.582Z"
   },
   {
    "duration": 2672,
    "start_time": "2024-12-12T07:18:52.599Z"
   },
   {
    "duration": 5,
    "start_time": "2024-12-12T07:18:55.273Z"
   },
   {
    "duration": 4,
    "start_time": "2024-12-12T07:18:55.280Z"
   },
   {
    "duration": 8,
    "start_time": "2024-12-12T07:18:55.286Z"
   },
   {
    "duration": 8,
    "start_time": "2024-12-12T07:18:55.296Z"
   },
   {
    "duration": 116,
    "start_time": "2024-12-12T07:18:55.306Z"
   },
   {
    "duration": 27,
    "start_time": "2024-12-12T07:18:55.424Z"
   },
   {
    "duration": 5,
    "start_time": "2024-12-12T07:18:55.453Z"
   },
   {
    "duration": 3,
    "start_time": "2024-12-12T07:18:55.459Z"
   },
   {
    "duration": 5,
    "start_time": "2024-12-12T07:18:55.464Z"
   },
   {
    "duration": 22,
    "start_time": "2024-12-12T07:18:55.471Z"
   },
   {
    "duration": 3,
    "start_time": "2024-12-12T07:18:55.494Z"
   },
   {
    "duration": 7,
    "start_time": "2024-12-12T07:18:55.498Z"
   },
   {
    "duration": 595,
    "start_time": "2024-12-12T07:18:55.507Z"
   },
   {
    "duration": 218,
    "start_time": "2024-12-12T07:18:56.104Z"
   },
   {
    "duration": 4,
    "start_time": "2024-12-12T07:18:56.324Z"
   },
   {
    "duration": 3,
    "start_time": "2024-12-12T07:18:56.342Z"
   },
   {
    "duration": 13,
    "start_time": "2024-12-12T07:18:56.347Z"
   },
   {
    "duration": 7,
    "start_time": "2024-12-12T07:18:56.362Z"
   },
   {
    "duration": 71,
    "start_time": "2024-12-12T07:18:56.371Z"
   },
   {
    "duration": 3,
    "start_time": "2024-12-12T07:18:56.443Z"
   },
   {
    "duration": 3,
    "start_time": "2024-12-12T07:18:56.447Z"
   },
   {
    "duration": 3,
    "start_time": "2024-12-12T07:18:56.452Z"
   },
   {
    "duration": 4,
    "start_time": "2024-12-12T07:18:56.456Z"
   },
   {
    "duration": 4,
    "start_time": "2024-12-12T07:18:57.333Z"
   },
   {
    "duration": 2,
    "start_time": "2024-12-12T07:18:59.671Z"
   },
   {
    "duration": 3,
    "start_time": "2024-12-12T07:19:28.680Z"
   },
   {
    "duration": 3,
    "start_time": "2024-12-12T07:19:41.804Z"
   },
   {
    "duration": 19,
    "start_time": "2024-12-12T07:23:48.912Z"
   },
   {
    "duration": 4,
    "start_time": "2024-12-12T07:26:30.998Z"
   },
   {
    "duration": 7,
    "start_time": "2024-12-12T07:26:31.566Z"
   },
   {
    "duration": 3,
    "start_time": "2024-12-12T07:26:31.633Z"
   },
   {
    "duration": 8,
    "start_time": "2024-12-12T07:26:31.660Z"
   },
   {
    "duration": 8,
    "start_time": "2024-12-12T07:26:31.693Z"
   },
   {
    "duration": 8,
    "start_time": "2024-12-12T07:26:31.736Z"
   },
   {
    "duration": 2,
    "start_time": "2024-12-12T07:26:31.770Z"
   },
   {
    "duration": 7,
    "start_time": "2024-12-12T07:26:31.835Z"
   },
   {
    "duration": 6,
    "start_time": "2024-12-12T07:26:31.845Z"
   },
   {
    "duration": 16,
    "start_time": "2024-12-12T07:26:31.869Z"
   },
   {
    "duration": 2614,
    "start_time": "2024-12-12T07:26:32.036Z"
   },
   {
    "duration": 4,
    "start_time": "2024-12-12T07:26:34.652Z"
   },
   {
    "duration": 5,
    "start_time": "2024-12-12T07:26:34.658Z"
   },
   {
    "duration": 8,
    "start_time": "2024-12-12T07:26:34.665Z"
   },
   {
    "duration": 9,
    "start_time": "2024-12-12T07:26:34.674Z"
   },
   {
    "duration": 273,
    "start_time": "2024-12-12T07:26:34.684Z"
   },
   {
    "duration": 12,
    "start_time": "2024-12-12T07:26:34.959Z"
   },
   {
    "duration": 6,
    "start_time": "2024-12-12T07:26:34.972Z"
   },
   {
    "duration": 3,
    "start_time": "2024-12-12T07:26:34.980Z"
   },
   {
    "duration": 2,
    "start_time": "2024-12-12T07:26:34.987Z"
   },
   {
    "duration": 51,
    "start_time": "2024-12-12T07:26:34.991Z"
   },
   {
    "duration": 2,
    "start_time": "2024-12-12T07:26:35.045Z"
   },
   {
    "duration": 7,
    "start_time": "2024-12-12T07:26:35.049Z"
   },
   {
    "duration": 598,
    "start_time": "2024-12-12T07:26:35.057Z"
   },
   {
    "duration": 213,
    "start_time": "2024-12-12T07:26:35.657Z"
   },
   {
    "duration": 4,
    "start_time": "2024-12-12T07:26:35.873Z"
   },
   {
    "duration": 4,
    "start_time": "2024-12-12T07:26:35.878Z"
   },
   {
    "duration": 12,
    "start_time": "2024-12-12T07:26:35.883Z"
   },
   {
    "duration": 49,
    "start_time": "2024-12-12T07:26:35.896Z"
   },
   {
    "duration": 4,
    "start_time": "2024-12-12T07:26:36.404Z"
   },
   {
    "duration": 2,
    "start_time": "2024-12-12T07:26:36.492Z"
   },
   {
    "duration": 3,
    "start_time": "2024-12-12T07:26:37.191Z"
   },
   {
    "duration": 3,
    "start_time": "2024-12-12T07:26:37.711Z"
   },
   {
    "duration": 7,
    "start_time": "2024-12-12T07:26:38.103Z"
   },
   {
    "duration": 4,
    "start_time": "2024-12-12T07:26:39.972Z"
   },
   {
    "duration": 4,
    "start_time": "2024-12-12T07:26:43.859Z"
   },
   {
    "duration": 4,
    "start_time": "2024-12-12T07:26:44.113Z"
   },
   {
    "duration": 3,
    "start_time": "2024-12-12T07:26:44.624Z"
   },
   {
    "duration": 9,
    "start_time": "2024-12-12T07:26:45.002Z"
   },
   {
    "duration": 2386,
    "start_time": "2024-12-12T07:36:05.453Z"
   },
   {
    "duration": 4,
    "start_time": "2024-12-12T07:36:07.841Z"
   },
   {
    "duration": 8,
    "start_time": "2024-12-12T07:36:07.847Z"
   },
   {
    "duration": 4,
    "start_time": "2024-12-12T07:36:07.856Z"
   },
   {
    "duration": 9,
    "start_time": "2024-12-12T07:36:07.862Z"
   },
   {
    "duration": 8,
    "start_time": "2024-12-12T07:36:07.873Z"
   },
   {
    "duration": 9,
    "start_time": "2024-12-12T07:36:07.883Z"
   },
   {
    "duration": 3,
    "start_time": "2024-12-12T07:36:07.894Z"
   },
   {
    "duration": 44,
    "start_time": "2024-12-12T07:36:07.899Z"
   },
   {
    "duration": 7,
    "start_time": "2024-12-12T07:36:07.947Z"
   },
   {
    "duration": 17,
    "start_time": "2024-12-12T07:36:07.955Z"
   },
   {
    "duration": 2695,
    "start_time": "2024-12-12T07:36:07.974Z"
   },
   {
    "duration": 5,
    "start_time": "2024-12-12T07:36:10.671Z"
   },
   {
    "duration": 4,
    "start_time": "2024-12-12T07:36:10.678Z"
   },
   {
    "duration": 8,
    "start_time": "2024-12-12T07:36:10.683Z"
   },
   {
    "duration": 8,
    "start_time": "2024-12-12T07:36:10.693Z"
   },
   {
    "duration": 164,
    "start_time": "2024-12-12T07:36:10.703Z"
   },
   {
    "duration": 11,
    "start_time": "2024-12-12T07:36:10.869Z"
   },
   {
    "duration": 5,
    "start_time": "2024-12-12T07:36:10.881Z"
   },
   {
    "duration": 2,
    "start_time": "2024-12-12T07:36:10.888Z"
   },
   {
    "duration": 3,
    "start_time": "2024-12-12T07:36:10.892Z"
   },
   {
    "duration": 55,
    "start_time": "2024-12-12T07:36:10.897Z"
   },
   {
    "duration": 3,
    "start_time": "2024-12-12T07:36:10.954Z"
   },
   {
    "duration": 8,
    "start_time": "2024-12-12T07:36:10.958Z"
   },
   {
    "duration": 588,
    "start_time": "2024-12-12T07:36:10.967Z"
   },
   {
    "duration": 219,
    "start_time": "2024-12-12T07:36:11.556Z"
   },
   {
    "duration": 4,
    "start_time": "2024-12-12T07:36:11.776Z"
   },
   {
    "duration": 2,
    "start_time": "2024-12-12T07:36:11.784Z"
   },
   {
    "duration": 12,
    "start_time": "2024-12-12T07:36:11.788Z"
   },
   {
    "duration": 46,
    "start_time": "2024-12-12T07:36:11.802Z"
   },
   {
    "duration": 5,
    "start_time": "2024-12-12T07:36:11.849Z"
   },
   {
    "duration": 6,
    "start_time": "2024-12-12T07:36:11.856Z"
   },
   {
    "duration": 79,
    "start_time": "2024-12-12T07:36:11.863Z"
   },
   {
    "duration": 3,
    "start_time": "2024-12-12T07:36:11.944Z"
   },
   {
    "duration": 7,
    "start_time": "2024-12-12T07:36:11.949Z"
   },
   {
    "duration": 6,
    "start_time": "2024-12-12T07:36:11.958Z"
   },
   {
    "duration": 3,
    "start_time": "2024-12-12T07:36:11.966Z"
   },
   {
    "duration": 5,
    "start_time": "2024-12-12T07:36:12.044Z"
   },
   {
    "duration": 4,
    "start_time": "2024-12-12T07:36:12.050Z"
   },
   {
    "duration": 10,
    "start_time": "2024-12-12T07:36:12.056Z"
   },
   {
    "duration": 11,
    "start_time": "2024-12-12T18:10:56.319Z"
   },
   {
    "duration": 153,
    "start_time": "2024-12-12T18:11:35.638Z"
   }
  ],
  "kernelspec": {
   "display_name": "Python [conda env:base] *",
   "language": "python",
   "name": "conda-base-py"
  },
  "language_info": {
   "codemirror_mode": {
    "name": "ipython",
    "version": 3
   },
   "file_extension": ".py",
   "mimetype": "text/x-python",
   "name": "python",
   "nbconvert_exporter": "python",
   "pygments_lexer": "ipython3",
   "version": "3.12.7"
  },
  "toc": {
   "base_numbering": 1,
   "nav_menu": {},
   "number_sections": true,
   "sideBar": true,
   "skip_h1_title": true,
   "title_cell": "Table of Contents",
   "title_sidebar": "Contents",
   "toc_cell": false,
   "toc_position": {},
   "toc_section_display": true,
   "toc_window_display": false
  }
 },
 "nbformat": 4,
 "nbformat_minor": 4
}
